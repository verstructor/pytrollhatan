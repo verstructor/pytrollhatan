{
 "cells": [
  {
   "cell_type": "markdown",
   "id": "56dbfd4b",
   "metadata": {
    "slideshow": {
     "slide_type": "slide"
    }
   },
   "source": [
    "# Section 8: File Processing\n",
    "This section covers how to process files in Python, including reading, writing, and working with file paths using the standard library."
   ]
  },
  {
   "cell_type": "markdown",
   "id": "b9a1c9d6",
   "metadata": {
    "slideshow": {
     "slide_type": "slide"
    }
   },
   "source": [
    "## Opening Files\n",
    "Files are opened using the built-in `open()` function. Always close files after use, or use a context manager to handle closing automatically."
   ]
  },
  {
   "cell_type": "code",
   "execution_count": null,
   "id": "d697b23c",
   "metadata": {
    "slideshow": {
     "slide_type": "slide"
    }
   },
   "outputs": [],
   "source": [
    "# Open a file for reading\n",
    "with open('example.txt', 'r') as file:\n",
    "    content = file.read()\n",
    "    print(content)  # Display file contents"
   ]
  },
  {
   "cell_type": "markdown",
   "id": "6ba31767",
   "metadata": {
    "slideshow": {
     "slide_type": "slide"
    }
   },
   "source": [
    "## Writing to Files\n",
    "Files can be opened in write ('w') or append ('a') mode. Writing to a file will overwrite existing content unless append mode is used."
   ]
  },
  {
   "cell_type": "code",
   "execution_count": null,
   "id": "cbc6f531",
   "metadata": {
    "slideshow": {
     "slide_type": "slide"
    }
   },
   "outputs": [],
   "source": [
    "# Write text to a file\n",
    "with open('output.txt', 'w') as file:\n",
    "    file.write('Hello, world!\\n')\n",
    "    file.write('This is a new line.')"
   ]
  },
  {
   "cell_type": "markdown",
   "id": "bfaaff86",
   "metadata": {
    "slideshow": {
     "slide_type": "slide"
    }
   },
   "source": [
    "## A Better Way to Open Files\n",
    "Using a context manager (`with` statement) ensures that files are properly closed, even if an error occurs."
   ]
  },
  {
   "cell_type": "code",
   "execution_count": null,
   "id": "bea75b2d",
   "metadata": {
    "slideshow": {
     "slide_type": "slide"
    }
   },
   "outputs": [],
   "source": [
    "# Reading lines from a file safely\n",
    "with open('example.txt', 'r') as file:\n",
    "    for line in file:\n",
    "        print(line.strip())  # Remove trailing newline"
   ]
  },
  {
   "cell_type": "markdown",
   "id": "ca8f05ae",
   "metadata": {
    "slideshow": {
     "slide_type": "slide"
    }
   },
   "source": [
    "## The os Module vs pathlib\n",
    "The `os` and `os.path` modules provide functions for file and directory operations. The `pathlib` module offers an object-oriented approach and is recommended for new code."
   ]
  },
  {
   "cell_type": "code",
   "execution_count": null,
   "id": "6f75d3ac",
   "metadata": {
    "slideshow": {
     "slide_type": "slide"
    }
   },
   "outputs": [],
   "source": [
    "import os\n",
    "from pathlib import Path\n",
    "\n",
    "# Using os to list files in a directory\n",
    "files = os.listdir('.')\n",
    "print(\"Files in current directory (os):\", files)\n",
    "\n",
    "# Using pathlib to list files in a directory\n",
    "p = Path('.')\n",
    "print(\"Files in current directory (pathlib):\", list(p.iterdir()))"
   ]
  },
  {
   "cell_type": "markdown",
   "id": "c2a1c22a",
   "metadata": {},
   "source": [
    "## Basic File and Directory Operations\n",
    "Common operations include checking if a file exists, creating directories, and joining paths."
   ]
  },
  {
   "cell_type": "code",
   "execution_count": null,
   "id": "2e753ba0",
   "metadata": {
    "slideshow": {
     "slide_type": "slide"
    }
   },
   "outputs": [],
   "source": [
    "# Check if a file exists\n",
    "print(Path('example.txt').exists())\n",
    "\n",
    "# Create a new directory\n",
    "Path('new_folder').mkdir(exist_ok=True)\n",
    "\n",
    "# Join paths\n",
    "new_file = Path('new_folder') / 'file.txt'\n",
    "print(new_file)"
   ]
  },
  {
   "cell_type": "markdown",
   "id": "45365bdb",
   "metadata": {
    "slideshow": {
     "slide_type": "slide"
    }
   },
   "source": [
    "## Summary\n",
    "- Use the `open()` function and context managers for safe file access.\n",
    "- Prefer `pathlib` for modern, readable file and directory operations.\n",
    "- The standard library provides robust tools for file processing tasks."
   ]
  }
 ],
 "metadata": {
  "language_info": {
   "name": "python"
  }
 },
 "nbformat": 4,
 "nbformat_minor": 5
}
