{
 "cells": [
  {
   "cell_type": "markdown",
   "id": "d0466290",
   "metadata": {
    "slideshow": {
     "slide_type": "slide"
    }
   },
   "source": [
    "# Section 1. Introduction to Python\n",
    "\n",
    "- History and Philosophy of Python\n",
    "- Installing Python (system install, venv basics)\n",
    "- Setting up a Python Development Environment (VSCode, PyCharm, CLI tools)\n",
    "- Running Python scripts: command line, IDEs, and notebooks\n",
    "- Python Enhancement Proposals (PEPs) and Code Style (PEP 8)"
   ]
  },
  {
   "cell_type": "markdown",
   "id": "bfc91244",
   "metadata": {
    "slideshow": {
     "slide_type": "slide"
    }
   },
   "source": [
    "## 1. History and Philosophy of Python\n",
    "\n",
    "Python was created by Guido van Rossum and first released in 1991. The language emphasizes readability, simplicity, and explicitness. Python's design philosophy is captured in \"The Zen of Python\" (import this), which encourages code that is easy to read and maintain."
   ]
  },
  {
   "cell_type": "code",
   "execution_count": null,
   "id": "7334dfba",
   "metadata": {
    "slideshow": {
     "slide_type": "slide"
    }
   },
   "outputs": [],
   "source": [
    "# Display \"The Zen of Python\"\n",
    "import this"
   ]
  },
  {
   "cell_type": "markdown",
   "id": "5b60f808",
   "metadata": {
    "slideshow": {
     "slide_type": "slide"
    }
   },
   "source": [
    "## 2. Installing Python\n",
    "\n",
    "Python can be installed from the official website (python.org) or using a package manager. On macOS, Homebrew is commonly used. "
   ]
  },
  {
   "cell_type": "markdown",
   "id": "5d0bdf75",
   "metadata": {
    "slideshow": {
     "slide_type": "slide"
    }
   },
   "source": [
    "## 3. Setting up a Python Development Environment\n",
    "\n",
    "Popular editors and IDEs for Python include VSCode and PyCharm. Command-line tools such as `pip` (for package management) and `venv` (for virtual environments) are essential for development.\n",
    "\n",
    "- VSCode: Lightweight, extensible, and supports Python via extensions.\n",
    "- PyCharm: Full-featured IDE with advanced Python support.\n",
    "- CLI tools: Useful for scripting and automation."
   ]
  },
  {
   "cell_type": "markdown",
   "id": "c9afe5d7",
   "metadata": {
    "slideshow": {
     "slide_type": "slide"
    }
   },
   "source": [
    "## 4. Running Python Scripts\n",
    "\n",
    "Python scripts can be executed in several ways:\n",
    "- **Command line:** `python script.py`\n",
    "- **IDEs:** Run or debug scripts directly from the editor.\n",
    "- **Notebooks:** Interactive execution of code cells, useful for data analysis and prototyping.\n",
    "\n",
    "**Example: Hello, World!**"
   ]
  },
  {
   "cell_type": "code",
   "execution_count": null,
   "id": "ca87c7b6",
   "metadata": {
    "slideshow": {
     "slide_type": "slide"
    }
   },
   "outputs": [],
   "source": [
    "# Print a simple message\n",
    "print(\"Hello, World!\")"
   ]
  },
  {
   "cell_type": "markdown",
   "id": "72b3394d",
   "metadata": {
    "slideshow": {
     "slide_type": "slide"
    }
   },
   "source": [
    "## Virtual environments\n",
    "\n",
    "A virtual environment in Python is an isolated workspace that allows separate management of dependencies for each project. This prevents conflicts between packages required by different projects and ensures reproducibility.\n",
    "\n",
    "### Creating a virtual environment\n",
    "\n",
    "To Create a virtual environment in the current directory, run in the terminal:\n",
    "\n",
    "```python3 -m venv venv```\n",
    "\n",
    "To activate on macOS/Linux:\n",
    "\n",
    "```source venv/bin/activate```\n",
    "\n",
    "To activate on Windows:\n",
    "\n",
    "``` venv\\Scripts\\activate```"
   ]
  },
  {
   "cell_type": "markdown",
   "id": "e689e8c0",
   "metadata": {
    "slideshow": {
     "slide_type": "slide"
    }
   },
   "source": [
    "## 5. Python Enhancement Proposals (PEPs) and Code Style\n",
    "\n",
    "PEPs are design documents providing information to the Python community. PEP 8 is the style guide for Python code, promoting consistency and readability.\n",
    "\n",
    "- Use 4 spaces per indentation level.\n",
    "- Limit lines to 79 characters.\n",
    "- Use descriptive variable names.\n",
    "\n",
    "**Example: PEP 8-compliant code**"
   ]
  },
  {
   "cell_type": "code",
   "execution_count": null,
   "id": "f7987da3",
   "metadata": {
    "slideshow": {
     "slide_type": "slide"
    }
   },
   "outputs": [],
   "source": [
    "# Example of PEP 8 style\n",
    "\n",
    "def greet(name):\n",
    "    \"\"\"Return a greeting message for the given name.\"\"\"\n",
    "    return f\"Hello, {name}!\"\n",
    "\n",
    "message = greet(\"Python Learner\")\n",
    "print(message)"
   ]
  }
 ],
 "metadata": {
  "language_info": {
   "name": "python"
  }
 },
 "nbformat": 4,
 "nbformat_minor": 5
}
