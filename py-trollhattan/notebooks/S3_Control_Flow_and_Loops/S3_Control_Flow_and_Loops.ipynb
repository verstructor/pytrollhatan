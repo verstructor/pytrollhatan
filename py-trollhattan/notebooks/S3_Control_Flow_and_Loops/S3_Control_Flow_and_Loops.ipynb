{
 "cells": [
  {
   "cell_type": "markdown",
   "id": "1d8342ae",
   "metadata": {
    "editable": true,
    "slideshow": {
     "slide_type": "slide"
    },
    "tags": []
   },
   "source": [
    "# Section 3. Control Flow and Loops\n",
    "\n",
    "This section covers Python's control flow mechanisms, focusing on conditional statements, loops, and related constructs for managing program execution.\n",
    "- Section 3. Control Flow and Loops\n",
    "    - Introduction to Control Flow\n",
    "    - Relational Operators\n",
    "    - Logical Operators\n",
    "        - Logical operator precedence\n",
    "    - The Ternary Operator (Conditional Expression)\n",
    "    - Conditional Statements: `if`, `elif`, `else`\n",
    "    - loops\n",
    "        - while Loop\n",
    "        - for Loop\n",
    "    - Loop Control: `break`, `continue`, `pass`\n",
    "        - Loop Control: `break`\n",
    "        - Loop Control: `pass`\n",
    "    - Comprehensions\n",
    "        - Tuple Comprehensions\n",
    "        - Set Comprehensions\n",
    "        - Dictionary Comprehensions\n",
    "        - Nested Comprehensions\n",
    "    - The `all()` and `any()` Functions\n",
    "    - Extra Looping Features\n",
    "        - else on Loops\n",
    "        - Using `enumerate()` in Loops\n",
    "    - Generators\n",
    "    - Summary\n"
   ]
  },
  {
   "cell_type": "markdown",
   "id": "0261c62c",
   "metadata": {
    "editable": true,
    "slideshow": {
     "slide_type": "slide"
    },
    "tags": []
   },
   "source": [
    "## Introduction to Control Flow\n",
    "\n",
    "Control flow statements determine the order in which code executes. Mastering these constructs is essential for writing flexible and efficient Python programs."
   ]
  },
  {
   "cell_type": "markdown",
   "id": "df17d1ac",
   "metadata": {
    "editable": true,
    "slideshow": {
     "slide_type": "slide"
    },
    "tags": []
   },
   "source": [
    "## Relational Operators\n",
    "\n",
    "Python uses relational operators to compare values and return Boolean results (True or False).\n",
    "\n",
    "| Operator | Description | Example | Result |\n",
    "|----------|-------------|---------|--------|\n",
    "| `==` | Equal to | `5 == 5` | `True` |\n",
    "| `!=` | Not equal to | `5 != 3` | `True` |\n",
    "| `>` | Greater than | `7 > 3` | `True` |\n",
    "| `<` | Less than | `2 < 8` | `True` |\n",
    "| `>=` | Greater than or equal to | `5 >= 5` | `True` |\n",
    "| `<=` | Less than or equal to | `4 <= 8` | `True` |\n",
    "| `is` | Identity comparison | `x is y` | `True` if x and y are the same object |\n",
    "| `is not` | Negated identity comparison | `x is not y` | `True` if x and y are different objects |\n",
    "| `in` | Membership test | `\"a\" in \"abc\"` | `True` |\n",
    "| `not in` | Negated membership test | `\"z\" not in \"abc\"` | `True` |\n",
    "\n",
    "\n",
    "\n",
    "\n"
   ]
  },
  {
   "cell_type": "code",
   "execution_count": 54,
   "id": "93581e40",
   "metadata": {
    "collapsed": true,
    "editable": true,
    "jupyter": {
     "outputs_hidden": true
    },
    "slideshow": {
     "slide_type": "slide"
    },
    "tags": []
   },
   "outputs": [
    {
     "name": "stdout",
     "output_type": "stream",
     "text": [
      "length == 5 False\n",
      "name != \"Ben\" True\n",
      "length < 5 True\n",
      "length <= 5 True\n",
      "length > 5 False\n",
      "length >= 5 False\n"
     ]
    }
   ],
   "source": [
    "# Relational Operators in Python\n",
    "\n",
    "length = 0\n",
    "name = \"Sue\"\n",
    "\n",
    "print(\"length == 5\", length == 5)       # equaility test\n",
    "print('name != \"Ben\"', name != \"Ben\")   # inequality test\n",
    "print(\"length < 5\", length < 5)         # less than test\n",
    "print(\"length <= 5\", length <= 5)       # less than or equal to test\n",
    "print(\"length > 5\", length > 5)         # greater than test\n",
    "print(\"length >= 5\", length >= 5)       # greater than or equal to test\n",
    "\n"
   ]
  },
  {
   "cell_type": "markdown",
   "id": "87452e4e",
   "metadata": {
    "editable": true,
    "slideshow": {
     "slide_type": "slide"
    },
    "tags": []
   },
   "source": [
    "## Logical Operators\n",
    "\n",
    "Python uses logical operators to combine conditions and return Boolean results (True or False).\n",
    "\n",
    "| Operator | Description | Example | Result |\n",
    "|----------|-------------|---------|--------|\n",
    "| `and` | Logical AND | `True and True` | `True` |\n",
    "| `and` | Logical AND | `True and False` | `False` |\n",
    "| `or` | Logical OR | `True or False` | `True` |\n",
    "| `or` | Logical OR | `False or False` | `False` |\n",
    "| `not` | Logical NOT | `not True` | `False` |\n",
    "| `not` | Logical NOT | `not False` | `True` |\n",
    "\n",
    "- Logical operators are used to combine multiple conditions\n",
    "- Short-circuit evaluation"
   ]
  },
  {
   "cell_type": "markdown",
   "id": "af58bf56",
   "metadata": {
    "slideshow": {
     "slide_type": "slide"
    }
   },
   "source": [
    "### Logical operator precedence\n",
    "\n",
    "1. NOT\n",
    "2. AND\n",
    "3. OR"
   ]
  },
  {
   "cell_type": "code",
   "execution_count": 55,
   "id": "c190754f",
   "metadata": {
    "collapsed": true,
    "jupyter": {
     "outputs_hidden": true
    },
    "slideshow": {
     "slide_type": "slide"
    }
   },
   "outputs": [
    {
     "name": "stdout",
     "output_type": "stream",
     "text": [
      "age == 18 and city == 'Paris' True\n",
      "age == 18 or city == 'London' True\n",
      "not (age == 18) False\n",
      "5 < length < 10 False\n"
     ]
    }
   ],
   "source": [
    "age = 18\n",
    "city = \"Paris\"\n",
    "\n",
    "print(\"age == 18 and city == 'Paris'\", age == 18 and city == \"Paris\")  # logical AND\n",
    "print(\"age == 18 or city == 'London'\", age == 18 or city == \"London\")    # logical OR\n",
    "print(\"not (age == 18)\", not (age == 18))  # logical NOT\n",
    "\n",
    "# Chained comparisons\n",
    "print(\"5 < length < 10\", 5 < length < 10)  # checks if length is between 5 and 10   \n",
    "\n"
   ]
  },
  {
   "cell_type": "markdown",
   "id": "e60009d1",
   "metadata": {},
   "source": [
    "## The Ternary Operator (Conditional Expression)\n",
    "\n",
    "The ternary operator in Python provides a concise way to select one of two values based on a condition. The syntax is:\n",
    "\n",
    "```python\n",
    "value_if_true if condition else value_if_false\n",
    "```\n",
    "\n",
    "This is useful for simple conditional assignments or expressions within a single line."
   ]
  },
  {
   "cell_type": "code",
   "execution_count": 56,
   "id": "c565d177",
   "metadata": {},
   "outputs": [
    {
     "name": "stdout",
     "output_type": "stream",
     "text": [
      "Exam status: Pass\n",
      "Shorter word: apple\n"
     ]
    }
   ],
   "source": [
    "# Assign a status based on a score using the ternary operator\n",
    "score = 72\n",
    "status = \"Pass\" if score >= 60 else \"Fail\"\n",
    "print(\"Exam status:\", status)\n",
    "\n",
    "# Select the shorter of two strings\n",
    "a = \"apple\"\n",
    "b = \"banana\"\n",
    "shorter = a if len(a) < len(b) else b\n",
    "print(\"Shorter word:\", shorter)"
   ]
  },
  {
   "cell_type": "markdown",
   "id": "8a4f6cf6",
   "metadata": {
    "slideshow": {
     "slide_type": "slide"
    }
   },
   "source": [
    "## Conditional Statements: `if`, `elif`, `else`\n",
    "\n",
    "Conditional statements allow code to branch based on logical conditions.\n",
    "\n",
    "- The `if` statement checks a condition.\n",
    "- The `elif` (else if) statement checks another condition if the previous one was false.\n",
    "- The `else` block runs if none of the previous conditions were true.\n",
    "\n",
    "```bnf\n",
    "if boolean_expression:​\n",
    "    statements...​\n",
    "[elif boolean_expression:​\n",
    "    statements...]...​\n",
    "[else:​\n",
    "    statements...]\n",
    "```\n"
   ]
  },
  {
   "cell_type": "code",
   "execution_count": 57,
   "id": "b61e3525",
   "metadata": {
    "collapsed": true,
    "jupyter": {
     "outputs_hidden": true
    },
    "slideshow": {
     "slide_type": "slide"
    }
   },
   "outputs": [
    {
     "name": "stdout",
     "output_type": "stream",
     "text": [
      "You passed!\n",
      "You passed!\n",
      "You got a B!\n"
     ]
    }
   ],
   "source": [
    "# Conditional Statements\n",
    "grade = 85\n",
    "\n",
    "# Do somthing or not\n",
    "if grade >= 60:\n",
    "    print(\"You passed!\")\n",
    "\n",
    "# Do one thing or another\n",
    "if grade >= 60:\n",
    "    print(\"You passed!\")\n",
    "else:\n",
    "    print(\"You failed!\")\n",
    "\n",
    "# Do one of several things\n",
    "if grade >= 90:\n",
    "    print(\"You got an A!\")\n",
    "elif grade >= 80:\n",
    "    print(\"You got a B!\")\n",
    "elif grade >= 70:\n",
    "    print(\"You got a C!\")\n",
    "elif grade >= 60:\n",
    "    print(\"You got a D!\")\n",
    "else:\n",
    "    print(\"You failed!\")"
   ]
  },
  {
   "cell_type": "code",
   "execution_count": 58,
   "id": "2b2bc006-26d6-491e-b855-06898c792185",
   "metadata": {
    "collapsed": true,
    "jupyter": {
     "outputs_hidden": true
    },
    "slideshow": {
     "slide_type": "slide"
    }
   },
   "outputs": [
    {
     "name": "stdout",
     "output_type": "stream",
     "text": [
      "Warm weather\n"
     ]
    }
   ],
   "source": [
    "# Checks the temperature and prints a message based on its value.\n",
    "temperature = 18\n",
    "\n",
    "# Check if the temperature is greater than 25\n",
    "if temperature > 25:\n",
    "    print(\"Hot weather\")\n",
    "# Check if the temperature is greater than 15 (but not greater than 25)\n",
    "elif temperature > 15:\n",
    "    print(\"Warm weather\")\n",
    "# If neither condition above is true, execute this block\n",
    "else:\n",
    "    print(\"Cold weather\")"
   ]
  },
  {
   "cell_type": "markdown",
   "id": "87f5db54",
   "metadata": {
    "jp-MarkdownHeadingCollapsed": true,
    "slideshow": {
     "slide_type": "slide"
    }
   },
   "source": [
    "## loops"
   ]
  },
  {
   "cell_type": "markdown",
   "id": "f96c8320",
   "metadata": {
    "slideshow": {
     "slide_type": "slide"
    }
   },
   "source": [
    "- Loops: `for` and `while`\n",
    "\n",
    "Loops are used to repeat actions multiple times or iterate over sequences.\n"
   ]
  },
  {
   "cell_type": "markdown",
   "id": "d2ae0ff6",
   "metadata": {},
   "source": [
    "### `while` Loop\n",
    "\n",
    "The `while` loop repeats as long as a condition is true.\n"
   ]
  },
  {
   "cell_type": "code",
   "execution_count": 59,
   "id": "bd36fc26",
   "metadata": {
    "collapsed": true,
    "jupyter": {
     "outputs_hidden": true
    },
    "slideshow": {
     "slide_type": "slide"
    }
   },
   "outputs": [
    {
     "name": "stdout",
     "output_type": "stream",
     "text": [
      "Counting: 0\n",
      "Counting: 1\n",
      "Counting: 2\n",
      "Loop finished, count is now: 3\n"
     ]
    }
   ],
   "source": [
    "count = 0\n",
    "while count < 3:\n",
    "    print(\"Counting:\", count)\n",
    "    count += 1\n",
    "\n",
    "print(\"Loop finished, count is now:\", count)"
   ]
  },
  {
   "cell_type": "code",
   "execution_count": 60,
   "id": "c8bd0d33",
   "metadata": {
    "collapsed": true,
    "jupyter": {
     "outputs_hidden": true
    },
    "slideshow": {
     "slide_type": "slide"
    }
   },
   "outputs": [
    {
     "name": "stdout",
     "output_type": "stream",
     "text": [
      "Incorrect password\n",
      "Incorrect password\n",
      "Incorrect password\n",
      "Account locked due to too many failed attempts\n"
     ]
    }
   ],
   "source": [
    "# Real-world example: User login attempts\n",
    "\n",
    "\n",
    "attempts = 0\n",
    "max_attempts = 3\n",
    "password = \"python123\"\n",
    "\n",
    "while attempts < max_attempts:\n",
    "    entry = input(\"Enter password: \")\n",
    "    if entry == password:\n",
    "        print(\"Access granted\")\n",
    "        break\n",
    "    else:\n",
    "        print(\"Incorrect password\")\n",
    "        attempts += 1\n",
    "else:\n",
    "    print(\"Account locked due to too many failed attempts\")"
   ]
  },
  {
   "cell_type": "markdown",
   "id": "a2322233",
   "metadata": {
    "slideshow": {
     "slide_type": "slide"
    }
   },
   "source": [
    "### `for` Loop\n",
    "\n",
    "The `for` loop iterates over items of a sequence (such as a list, tuple, or string).\n"
   ]
  },
  {
   "cell_type": "code",
   "execution_count": 61,
   "id": "c4a21b5a",
   "metadata": {
    "collapsed": true,
    "jupyter": {
     "outputs_hidden": true
    },
    "slideshow": {
     "slide_type": "slide"
    }
   },
   "outputs": [
    {
     "name": "stdout",
     "output_type": "stream",
     "text": [
      "apple\n",
      "banana\n",
      "cherry\n"
     ]
    }
   ],
   "source": [
    "fruits = [\"apple\", \"banana\", \"cherry\"]\n",
    "for fruit in fruits:\n",
    "    print(fruit)"
   ]
  },
  {
   "cell_type": "markdown",
   "id": "0785d95b",
   "metadata": {
    "slideshow": {
     "slide_type": "slide"
    }
   },
   "source": [
    "\n",
    "**Real-world example: Processing orders**\n",
    "\n",
    "```python\n",
    "orders = [\"book\", \"laptop\", \"pen\"]\n",
    "for item in orders:\n",
    "    print(f\"Packing item: {item}\")\n",
    "```"
   ]
  },
  {
   "cell_type": "markdown",
   "id": "30bd1c66",
   "metadata": {
    "slideshow": {
     "slide_type": "slide"
    }
   },
   "source": [
    "## Loop Control: `break`, `continue`, `pass`\n",
    "\n",
    "- `break`: Exit the nearest enclosing loop immediately.\n",
    "- `continue`: Skip the rest of the current loop iteration and proceed to the next.\n",
    "- `pass`: Do nothing (acts as a placeholder).\n"
   ]
  },
  {
   "cell_type": "code",
   "execution_count": 62,
   "id": "6c10a6da",
   "metadata": {
    "collapsed": true,
    "jupyter": {
     "outputs_hidden": true
    },
    "slideshow": {
     "slide_type": "slide"
    }
   },
   "outputs": [
    {
     "name": "stdout",
     "output_type": "stream",
     "text": [
      "0\n",
      "1\n",
      "3\n"
     ]
    }
   ],
   "source": [
    "for n in range(5):\n",
    "    if n == 2:\n",
    "        continue  # Skip number 2\n",
    "    if n == 4:\n",
    "        break     # Stop the loop at 4\n",
    "    print(n)\n",
    "\n"
   ]
  },
  {
   "cell_type": "markdown",
   "id": "0e3ba4d0",
   "metadata": {
    "slideshow": {
     "slide_type": "slide"
    }
   },
   "source": [
    "### Loop Control: `break`\n",
    "\n",
    "The `break` statement immediately exits the nearest enclosing loop. This is useful for stopping a loop when a certain condition is met.\n"
   ]
  },
  {
   "cell_type": "code",
   "execution_count": 63,
   "id": "740b09cc",
   "metadata": {
    "slideshow": {
     "slide_type": "slide"
    }
   },
   "outputs": [
    {
     "name": "stdout",
     "output_type": "stream",
     "text": [
      "Name found: Charlie\n",
      "Processing: 5\n",
      "Processing: 3\n",
      "Negative number encountered, stopping.\n"
     ]
    }
   ],
   "source": [
    "### Loop Control: `break` Examples\n",
    "\n",
    "# Example 1: Stop searching when a match is found\n",
    "names = [\"Alice\", \"Bob\", \"Charlie\", \"Diana\"]\n",
    "target = \"Charlie\"\n",
    "for name in names:\n",
    "    if name == target:\n",
    "        print(\"Name found:\", name)\n",
    "        break  # Exit loop when target is found\n",
    "\n",
    "# Example 2: Exit a loop if a negative number is entered\n",
    "numbers = [5, 3, -1, 7]\n",
    "for n in numbers:\n",
    "    if n < 0:\n",
    "        print(\"Negative number encountered, stopping.\")\n",
    "        break\n",
    "    print(\"Processing:\", n)\n",
    "\n",
    "# Example 3: Search for a value in a 2D list and exit when found\n",
    "matrix = [\n",
    "    [1, 2, 3],\n",
    "    [4, 5, 6],\n",
    "    [7, 8, 9]\n",
    "]\n",
    "found = False\n",
    "for row in matrix:\n",
    "    for value in row:\n",
    "        if value < 0:\n",
    "            print(\"Value found:\", value)\n",
    "            found = True\n",
    "            break  # Exits inner loop\n",
    "    if found:\n",
    "        break  # Exits outer loop\n"
   ]
  },
  {
   "cell_type": "markdown",
   "id": "41dc8c90",
   "metadata": {
    "slideshow": {
     "slide_type": "slide"
    }
   },
   "source": [
    "### Loop Control: `pass`\n",
    "\n",
    "The `pass` statement does nothing and acts as a placeholder. It is often used where a statement is syntactically required but no action is needed.\n"
   ]
  },
  {
   "cell_type": "code",
   "execution_count": 64,
   "id": "2dd16e69",
   "metadata": {
    "slideshow": {
     "slide_type": "slide"
    }
   },
   "outputs": [
    {
     "name": "stdout",
     "output_type": "stream",
     "text": [
      "Processing: 0\n",
      "Processing: 1\n",
      "Processing: 3\n",
      "Processing: 4\n"
     ]
    }
   ],
   "source": [
    "### Loop Control: `pass` Examples: \n",
    "\n",
    "# Example 1: Placeholder for future code in a loop\n",
    "for i in range(5):\n",
    "    if i == 2:\n",
    "        pass  # No action for 2, placeholder for future logic\n",
    "    else:\n",
    "        print(\"Processing:\", i)\n",
    "\n",
    "\n",
    "# Example 2: Define an empty function for later implementation\n",
    "def process_data():\n",
    "    pass  # Implementation will be added later\n",
    "\n",
    "\n",
    "# Example 3: Ignore certain errors in exception handling\n",
    "try:\n",
    "    num = int(\"xxx\")  # int(input(\"Number? \"))\n",
    "except ValueError:\n",
    "    pass  # Ignore ValueError and continue\n"
   ]
  },
  {
   "cell_type": "markdown",
   "id": "8914bfee",
   "metadata": {
    "slideshow": {
     "slide_type": "slide"
    }
   },
   "source": [
    "## Comprehensions\n",
    "\n",
    "Comprehensions provide a concise way to create lists, sets, or dictionaries from iterables.\n",
    "\n",
    "```python\n",
    "# List comprehension: squares of even numbers from 0 to 9\n",
    "squares = [x**2 for x in range(10) if x % 2 == 0]\n",
    "print(squares)\n",
    "```\n",
    "\n",
    "- Similar syntax applies for set and dictionary comprehensions.\n"
   ]
  },
  {
   "cell_type": "code",
   "execution_count": 65,
   "id": "d7d0f5a8",
   "metadata": {
    "slideshow": {
     "slide_type": "slide"
    }
   },
   "outputs": [
    {
     "name": "stdout",
     "output_type": "stream",
     "text": [
      "['bob@mydomain.com']\n",
      "Labels: ['even', 'odd', 'even', 'odd', 'even']\n"
     ]
    }
   ],
   "source": [
    "# Skip specific items witha filter expression\n",
    "emails = [\"alice@gmail.com\", \"bob@mydomain.com\", \"sue@gmail.com\"]\n",
    "external_users = [email for email in emails if email.endswith(\"@mydomain.com\")]\n",
    "print(external_users)\n",
    "\n",
    "# Use in a list comprehension for labeling numbers as even or odd\n",
    "labels = [\"even\" if n % 2 == 0 else \"odd\" for n in range(5)]\n",
    "print(\"Labels:\", labels)"
   ]
  },
  {
   "cell_type": "markdown",
   "id": "96a07faf",
   "metadata": {
    "slideshow": {
     "slide_type": "slide"
    }
   },
   "source": [
    "### Tuple Comprehensions\n",
    "\n",
    "Python does not have a dedicated tuple comprehension syntax. Instead, a generator expression is used, which can be converted to a tuple using the `tuple()` constructor. This approach is memory efficient and produces items on demand.\n",
    "\n",
    "**Example:** Creating a tuple of squared numbers from 0 to 4."
   ]
  },
  {
   "cell_type": "code",
   "execution_count": 66,
   "id": "7546b6d9",
   "metadata": {
    "slideshow": {
     "slide_type": "slide"
    }
   },
   "outputs": [
    {
     "name": "stdout",
     "output_type": "stream",
     "text": [
      "(0, 1, 4, 9, 16)\n"
     ]
    }
   ],
   "source": [
    "# Creating a tuple of squared numbers from 0 to 4\n",
    "# Tuple comprehension using a generator expression\n",
    "squared_tuple = tuple(x**2 for x in range(5))\n",
    "print(squared_tuple)  # Output: (0, 1, 4, 9, 16)"
   ]
  },
  {
   "cell_type": "markdown",
   "id": "3e07ea6e",
   "metadata": {
    "slideshow": {
     "slide_type": "slide"
    }
   },
   "source": [
    "### Set Comprehensions\n",
    "\n",
    "Set comprehensions provide a concise way to create sets by specifying an expression and an iterable. Duplicate values are automatically removed.\n",
    "\n",
    "**Example:** Creating a set of unique first letters from a list of words."
   ]
  },
  {
   "cell_type": "code",
   "execution_count": 67,
   "id": "394e5fe6",
   "metadata": {
    "slideshow": {
     "slide_type": "slide"
    }
   },
   "outputs": [
    {
     "name": "stdout",
     "output_type": "stream",
     "text": [
      "{'b', 'a', 'c'}\n"
     ]
    }
   ],
   "source": [
    "# Creating a set of unique first letters from a list of words.\n",
    "# Set comprehension to extract unique first letters\n",
    "words = [\"apple\", \"banana\", \"apricot\", \"cherry\", \"blueberry\"]\n",
    "first_letters = {word[0] for word in words}\n",
    "print(first_letters)  # Output: {'a', 'b', 'c'}"
   ]
  },
  {
   "cell_type": "markdown",
   "id": "8cb5716b",
   "metadata": {
    "slideshow": {
     "slide_type": "slide"
    }
   },
   "source": [
    "### Dictionary Comprehensions\n",
    "\n",
    "Dictionary comprehensions allow the creation of dictionaries from iterables by specifying key-value pairs.\n",
    "\n",
    "**Example:** Mapping words to their lengths."
   ]
  },
  {
   "cell_type": "code",
   "execution_count": 68,
   "id": "524c9320",
   "metadata": {
    "slideshow": {
     "slide_type": "slide"
    }
   },
   "outputs": [
    {
     "name": "stdout",
     "output_type": "stream",
     "text": [
      "{'apple': 5, 'banana': 6, 'cherry': 6}\n"
     ]
    }
   ],
   "source": [
    "# Dictionary comprehension to map words to their lengths\n",
    "words = [\"apple\", \"banana\", \"cherry\"]\n",
    "word_lengths = {word: len(word) for word in words}\n",
    "print(word_lengths)  # Output: {'apple': 5, 'banana': 6, 'cherry': 6}"
   ]
  },
  {
   "cell_type": "markdown",
   "id": "690ea98c",
   "metadata": {
    "slideshow": {
     "slide_type": "slide"
    }
   },
   "source": [
    "### Nested Comprehensions\n",
    "\n",
    "Comprehensions can be nested to process multi-dimensional data or generate combinations.\n",
    "\n",
    "- Nested comprehensions are powerful for transforming and filtering complex data structures."
   ]
  },
  {
   "cell_type": "code",
   "execution_count": 69,
   "id": "adac0718",
   "metadata": {
    "slideshow": {
     "slide_type": "slide"
    }
   },
   "outputs": [
    {
     "name": "stdout",
     "output_type": "stream",
     "text": [
      "[1, 2, 3, 4, 5, 6]\n",
      "[1, 2, 3, 4, 5, 6]\n",
      "[('red', 'S'), ('red', 'M'), ('blue', 'S'), ('blue', 'M')]\n",
      "[('red', 'S'), ('red', 'M'), ('blue', 'S'), ('blue', 'M')]\n"
     ]
    }
   ],
   "source": [
    "# Example: Flattening a 2D list using nested loops\n",
    "matrix = [[1, 2], [3, 4], [5, 6]]\n",
    "flattened = []\n",
    "for row in matrix:\n",
    "    for num in row:\n",
    "        flattened.append(num)\n",
    "print(flattened)  # Output: [1, 2, 3, 4, 5, 6]\n",
    "\n",
    "\n",
    "# Example: Flattening a 2D list\n",
    "matrix = [[1, 2], [3, 4], [5, 6]]\n",
    "flattened = [num for row in matrix for num in row]\n",
    "print(flattened)  # Output: [1, 2, 3, 4, 5, 6]\n",
    "\n",
    "\n",
    "# Example: Creating pairs from two lists using nested loops\n",
    "colors = [\"red\", \"blue\"]\n",
    "sizes = [\"S\", \"M\"]\n",
    "pairs = []\n",
    "for color in colors:\n",
    "    for size in sizes:\n",
    "        pairs.append((color, size))\n",
    "print(pairs)  # Output: [('red', 'S'), ('red', 'M'), ('blue', 'S'), ('blue', 'M')]\n",
    "\n",
    "# Example: Creating pairs from two lists\n",
    "colors = [\"red\", \"blue\"]\n",
    "sizes = [\"S\", \"M\"]\n",
    "pairs = [(color, size) for color in colors for size in sizes]\n",
    "print(pairs)  # Output: [('red', 'S'), ('red', 'M'), ('blue', 'S'), ('blue', 'M')]\n",
    "\n",
    "\n"
   ]
  },
  {
   "cell_type": "markdown",
   "id": "fa4390e7",
   "metadata": {
    "slideshow": {
     "slide_type": "slide"
    }
   },
   "source": [
    "## The `all()` and `any()` Functions\n",
    "\n",
    "The `all()` and `any()` functions are built-in tools for evaluating iterables of Boolean values.\n",
    "\n",
    "- `all(iterable)`: Returns `True` if every element in the iterable is true (or if the iterable is empty).\n",
    "- `any(iterable)`: Returns `True` if at least one element in the iterable is true.\n",
    "\n",
    "These functions are useful for validating conditions across collections, such as checking if all items meet a requirement or if any item passes a filter."
   ]
  },
  {
   "cell_type": "code",
   "execution_count": 70,
   "id": "335e9845",
   "metadata": {
    "slideshow": {
     "slide_type": "slide"
    }
   },
   "outputs": [
    {
     "name": "stdout",
     "output_type": "stream",
     "text": [
      "All passwords are strong: False\n",
      "At least one urgent order: True\n",
      "All of [] is True: True\n",
      "Any of [] is True: False\n"
     ]
    }
   ],
   "source": [
    "# Using all() to check if all passwords are strong (at least 8 characters)\n",
    "passwords = [\"secure123\", \"letmein\", \"password123\"]\n",
    "all_strong = all(len(pw) >= 8 for pw in passwords)\n",
    "print(\"All passwords are strong:\", all_strong)\n",
    "\n",
    "# Using any() to check if any order is marked as urgent\n",
    "orders = [{\"id\": 1, \"urgent\": False}, {\"id\": 2, \"urgent\": True}]\n",
    "has_urgent = any(order[\"urgent\"] for order in orders)\n",
    "print(\"At least one urgent order:\", has_urgent)\n",
    "\n",
    "# Using all() with an empty iterable returns True\n",
    "print(\"All of [] is True:\", all([]))  # Output: True\n",
    "\n",
    "# Using any() with an empty iterable returns False\n",
    "print(\"Any of [] is True:\", any([]))  # Output: False"
   ]
  },
  {
   "cell_type": "markdown",
   "id": "c0beb83c-12e4-4ce4-8fba-44aa34c8d9b9",
   "metadata": {
    "slideshow": {
     "slide_type": "slide"
    }
   },
   "source": [
    "## Extra Looping Features"
   ]
  },
  {
   "cell_type": "markdown",
   "id": "b6a1e0fd-5751-47a8-b26a-c67bf3e9060c",
   "metadata": {
    "slideshow": {
     "slide_type": "slide"
    }
   },
   "source": [
    "### `else` on Loops\n",
    "\n",
    "The `else` block in loops executes when a loop completes normally (without `break`). This eliminates the need for flag variables and separate post-loop conditionals that would otherwise be required to check if a loop exited early. The result is cleaner, more readable code that directly associates post-loop actions with the loop construct itself.\n"
   ]
  },
  {
   "cell_type": "code",
   "execution_count": 71,
   "id": "9a32c7dd",
   "metadata": {
    "slideshow": {
     "slide_type": "slide"
    }
   },
   "outputs": [
    {
     "name": "stdout",
     "output_type": "stream",
     "text": [
      "Count is: 0\n",
      "Count is: 1\n",
      "Count is: 2\n",
      "Loop completed without interruption.\n"
     ]
    }
   ],
   "source": [
    "### `else` on Loops\n",
    "# Example 1: Using `else` with a `for` loop\n",
    "names = [\"Alice\", \"Bob\", \"Sue\"]\n",
    "for name in names:\n",
    "    if name == \"Sue\":\n",
    "        break\n",
    "else:\n",
    "    print(\"Sue not found in the list.\")\n",
    "\n",
    "# Example 1a: Example 1 without an `else` block\n",
    "found = False\n",
    "for name in names:\n",
    "    if name == \"Sue\":\n",
    "        found =  True\n",
    "        break\n",
    "\n",
    "if not found:\n",
    "    print(\"Sue not found in the list.\")\n",
    "\n",
    "# Example 2: Using `else` with a `while` loop\n",
    "count = 0\n",
    "while count < 3:\n",
    "    print(\"Count is:\", count)\n",
    "    count += 1\n",
    "else:\n",
    "    print(\"Loop completed without interruption.\")  \n",
    "\n",
    "\n"
   ]
  },
  {
   "cell_type": "markdown",
   "id": "1e46bbad",
   "metadata": {
    "slideshow": {
     "slide_type": "slide"
    }
   },
   "source": [
    "### Using `enumerate()` in Loops\n",
    "\n",
    "The `enumerate()` function adds a counter to an iterable, returning pairs of (index, item). This eliminates the need for separate counter variables when loop indexes are required.\n",
    "\n",
    "#### Basic Syntax\n",
    "\n",
    "```python\n",
    "enumerate(iterable, start=0)\n",
    "```\n",
    "\n",
    "- `iterable`: Any object that supports iteration (lists, tuples, strings, etc.)\n",
    "- `start`: Optional parameter specifying the start value for the counter (default is 0)\n",
    "\n",
    "The `enumerate()` function is useful when both the position and value in a sequence are needed without having to maintain a separate counter variable."
   ]
  },
  {
   "cell_type": "code",
   "execution_count": 72,
   "id": "823d1b6e",
   "metadata": {
    "slideshow": {
     "slide_type": "slide"
    }
   },
   "outputs": [
    {
     "name": "stdout",
     "output_type": "stream",
     "text": [
      "1 Alice\n",
      "2 Bob\n",
      "3 Sue\n",
      "\n",
      "1 Alice\n",
      "2 Bob\n",
      "3 Sue\n"
     ]
    }
   ],
   "source": [
    "\n",
    "## Example: Using `enumerate` in Loops\n",
    "\n",
    "### Tracking Position in a Sequence\n",
    "# Processing with index information\n",
    "for index, name in enumerate(names):\n",
    "    print(index + 1, name)  # Output: 1 Alice, 2 Bob, 3 Sue\n",
    "\n",
    "print ()\n",
    "\n",
    "\n",
    "### Custom Starting Index\n",
    "# Starting enumeration from 1 instead of 0\n",
    "for position, name in enumerate(names, 1):\n",
    "    print(position, name) # Output: 1 Alice, 2 Bob, 3 Sue\n",
    "\n"
   ]
  },
  {
   "cell_type": "markdown",
   "id": "3f32d6fe",
   "metadata": {
    "slideshow": {
     "slide_type": "slide"
    }
   },
   "source": [
    "## Generators\n",
    "\n",
    "Generators are specialized functions that produce a sequence of values using the `yield` statement. Unlike regular functions that return a value and terminate, generators yield values one at a time, suspending execution until the next value is requested.\n",
    "\n",
    "### Key Features of Generators\n",
    "\n",
    "- **Lazy Evaluation**: Values are generated on-demand, not all at once\n",
    "- **Memory Efficiency**: Only one value is stored in memory at a time\n",
    "- **State Preservation**: Function state is preserved between yields\n",
    "- **Iteration Protocol**: Generators implement Python's iteration protocol\n",
    "\n",
    "### Generator Functions vs Generator Expressions\n",
    "\n",
    "- **Generator Functions**: Use `yield` keyword in a function\n",
    "- **Generator Expressions**: Similar to list comprehensions but with parentheses\n"
   ]
  },
  {
   "cell_type": "code",
   "execution_count": 73,
   "id": "5ef13903",
   "metadata": {
    "slideshow": {
     "slide_type": "slide"
    }
   },
   "outputs": [
    {
     "name": "stdout",
     "output_type": "stream",
     "text": [
      "0\n",
      "1\n",
      "2\n",
      "3\n",
      "4\n",
      "[0, 1, 4, 9, 16]\n"
     ]
    }
   ],
   "source": [
    "# Basic generator function\n",
    "def count_up_to(max):\n",
    "    count = 0\n",
    "    while count < max:\n",
    "        yield count\n",
    "        count += 1\n",
    "\n",
    "# Using a generator function\n",
    "counter = count_up_to(5)\n",
    "print(next(counter))  # Output: 0\n",
    "print(next(counter))  # Output: 1\n",
    "\n",
    "# Loop through remaining values\n",
    "for number in counter:\n",
    "    print(number)     # Output: 2, 3, 4\n",
    "\n",
    "# Generator expression (similar to list comprehension but with parentheses)\n",
    "squares_gen = (x**2 for x in range(5))\n",
    "print(list(squares_gen))  # Output: [0, 1, 4, 9, 16]\n",
    "\n"
   ]
  },
  {
   "cell_type": "code",
   "execution_count": 74,
   "id": "d08a385d",
   "metadata": {
    "slideshow": {
     "slide_type": "slide"
    }
   },
   "outputs": [
    {
     "name": "stdout",
     "output_type": "stream",
     "text": [
      "List size: 8,448,728 bytes\n",
      "Generator size: 192 bytes\n",
      "First 10 Fibonacci numbers: [0, 1, 1, 2, 3, 5, 8, 13, 21, 34]\n",
      "100\n",
      "64\n",
      "16\n",
      "81\n"
     ]
    }
   ],
   "source": [
    "\n",
    "# Memory efficiency demonstration\n",
    "import sys\n",
    "\n",
    "# Compare memory usage: list vs generator\n",
    "numbers_list = [x for x in range(1000000)]\n",
    "numbers_gen = (x for x in range(1000000))\n",
    "\n",
    "list_size = sys.getsizeof(numbers_list)\n",
    "gen_size = sys.getsizeof(numbers_gen)\n",
    "\n",
    "print(f\"List size: {list_size:,} bytes\")\n",
    "print(f\"Generator size: {gen_size:,} bytes\")\n",
    "\n",
    "\n",
    "# Infinite sequence generator\n",
    "def fibonacci():\n",
    "    a, b = 0, 1\n",
    "    while True:\n",
    "        yield a\n",
    "        a, b = b, a + b\n",
    "\n",
    "# Get first 10 Fibonacci numbers\n",
    "fib_gen = fibonacci()\n",
    "fib_numbers = [next(fib_gen) for _ in range(10)]\n",
    "print(f\"First 10 Fibonacci numbers: {fib_numbers}\")\n",
    "\n",
    "# Pipeline of generators for data processing\n",
    "def read_data():\n",
    "    # Simulate reading data from a source\n",
    "    for value in [10, -5, 8, -12, 4, 9]:\n",
    "        yield value\n",
    "\n",
    "def filter_negatives(data):\n",
    "    for value in data:\n",
    "        if value >= 0:\n",
    "            yield value\n",
    "\n",
    "def square_values(data):\n",
    "    for value in data:\n",
    "        yield value ** 2\n",
    "\n",
    "# Chain generators together\n",
    "raw_data = read_data()\n",
    "positive_data = filter_negatives(raw_data)\n",
    "processed_data = square_values(positive_data)\n",
    "\n",
    "# Use the processed data\n",
    "for value in processed_data:\n",
    "    print(value)  # Output: 100, 64, 16, 81\n",
    "\n",
    "# print(\"Processed data:\", list(processed_data))  # Output: [100, 64, 16, 81]\n"
   ]
  },
  {
   "cell_type": "markdown",
   "id": "e3e63ca8",
   "metadata": {
    "slideshow": {
     "slide_type": "slide"
    }
   },
   "source": [
    "## Summary\n",
    "\n",
    "## Summary\n",
    "\n",
    "- **Control Flow Fundamentals**: Python offers various mechanisms to control program execution flow.\n",
    "- **Relational Operators**: Compare values using operators like `==`, `!=`, `>`, `<`, `>=`, `<=`, `is`, and `in`.\n",
    "- **Logical Operators**: Combine conditions with `and`, `or`, and `not` with specific precedence rules.\n",
    "- **Conditional Statements**: Use `if`, `elif`, and `else` to execute code based on conditions.\n",
    "- **Loop Types**: Implement repetitive tasks with `while` loops (condition-based) and `for` loops (iteration-based).\n",
    "- **Loop Control**: Modify loop behavior with `break` (exit loop), `continue` (skip iteration), and `pass` (do nothing).\n",
    "- **Comprehensions**: Create collections concisely with list, set, and dictionary comprehensions.\n",
    "- **Advanced Features**: Utilize nested comprehensions, `else` clauses on loops, and ternary operators.\n",
    "- **Iteration Tools**: Enhance loops with `enumerate()` to track indices and positions.\n",
    "- **Generators**: Create memory-efficient iterables using generator functions and expressions.\n",
    "- **Boolean Evaluation**: Apply `all()` and `any()` functions to validate conditions across collections.\n",
    "\n",
    "> For more details on control flow and loops, refer to the [official Python documentation](https://docs.python.org/3/tutorial/controlflow.html).\n",
    "> Explore the [itertools](https://docs.python.org/3/library/itertools.html) module for advanced iteration tools."
   ]
  }
 ],
 "metadata": {
  "kernelspec": {
   "display_name": "Python 3 (ipykernel)",
   "language": "python",
   "name": "python3"
  },
  "language_info": {
   "codemirror_mode": {
    "name": "ipython",
    "version": 3
   },
   "file_extension": ".py",
   "mimetype": "text/x-python",
   "name": "python",
   "nbconvert_exporter": "python",
   "pygments_lexer": "ipython3",
   "version": "3.13.2"
  }
 },
 "nbformat": 4,
 "nbformat_minor": 5
}
