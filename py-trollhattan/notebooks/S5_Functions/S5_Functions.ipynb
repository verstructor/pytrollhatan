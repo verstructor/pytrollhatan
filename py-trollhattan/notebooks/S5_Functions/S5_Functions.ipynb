{
 "cells": [
  {
   "cell_type": "markdown",
   "id": "title-section",
   "metadata": {
    "slideshow": {
     "slide_type": "slide"
    }
   },
   "source": [
    "# Section 5. Functions\n",
    "\n",
    "This section covers functions in Python, including function definition, arguments, scoping rules, and related advanced concepts.\n",
    "\n",
    "- Defining and Calling Functions\n",
    "- Methods vs. Functions\n",
    "- Arguments: positional, keyword, default, `*args`, `**kwargs`\n",
    "- Higher-Order Functions\n",
    "- Scope and Closures\n",
    "- Lambda Functions\n",
    "- Summary"
   ]
  },
  {
   "cell_type": "markdown",
   "id": "0896f728",
   "metadata": {
    "slideshow": {
     "slide_type": "slide"
    }
   },
   "source": [
    "## Defining and Calling Functions\n",
    "\n",
    "Functions are reusable blocks of code that perform specific tasks. They help organize code, improve readability, and facilitate code reuse.\n",
    "\n",
    "### Function Syntax\n",
    "\n",
    "```python\n",
    "def function_name(parameters):\n",
    "    \"\"\"Docstring explaining what the function does\"\"\"\n",
    "    # Function body - code that runs when the function is called\n",
    "    return value  # Optional return statement\n",
    "```\n",
    "\n",
    "- `def`: Keyword that signals a function definition\n",
    "- `function_name`: Name of the function (follows variable naming rules)\n",
    "- `parameters`: Optional input values the function accepts\n",
    "- `docstring`: Recommended documentation string explaining the function\n",
    "- `return`: Optional statement that specifies what the function outputs"
   ]
  },
  {
   "cell_type": "code",
   "execution_count": 1,
   "id": "8816ba92",
   "metadata": {
    "slideshow": {
     "slide_type": "slide"
    }
   },
   "outputs": [
    {
     "name": "stdout",
     "output_type": "stream",
     "text": [
      "Hello, World!\n",
      "Count: 4, Average: 12.5\n"
     ]
    }
   ],
   "source": [
    "# Basic function definition and calling\n",
    "def greet(name):\n",
    "    \"\"\"Return a greeting message for the given name.\"\"\"\n",
    "    return f\"Hello, {name}!\"\n",
    "\n",
    "# Calling the function\n",
    "message = greet(\"World\")\n",
    "print(message)  # Output: Hello, World!\n",
    "\n",
    "# Function with multiple statements\n",
    "def calculate_statistics(numbers):\n",
    "    \"\"\"Calculate basic statistics for a list of numbers.\"\"\"\n",
    "    total = sum(numbers)\n",
    "    count = len(numbers)\n",
    "    average = total / count if count > 0 else 0\n",
    "    \n",
    "    return {\n",
    "        \"total\": total,\n",
    "        \"count\": count,\n",
    "        \"average\": average\n",
    "    }\n",
    "\n",
    "# Call the function with a list of numbers\n",
    "stats = calculate_statistics([5, 10, 15, 20])\n",
    "print(f\"Count: {stats['count']}, Average: {stats['average']}\")"
   ]
  },
  {
   "cell_type": "markdown",
   "id": "52a7c4d0",
   "metadata": {},
   "source": [
    "## Methods vs. Functions\n",
    "\n",
    "While closely related, functions and methods have distinct characteristics:\n",
    "\n",
    "| Function | Method |\n",
    "|----------|--------|\n",
    "| Standalone and independent | Associated with an object or class |\n",
    "| Called directly by name | Called using object.method() syntax |\n",
    "| Defined with `def` outside classes | Defined with `def` within classes |\n",
    "| Operates on passed arguments | Has access to object attributes through `self` |\n",
    "\n",
    "Methods are essentially functions that belong to objects and have access to the object's data."
   ]
  },
  {
   "cell_type": "code",
   "execution_count": 2,
   "id": "e50ef889",
   "metadata": {},
   "outputs": [
    {
     "name": "stdout",
     "output_type": "stream",
     "text": [
      "Function result: 8\n",
      "Method result: 15\n",
      "Length (function): 5\n",
      "After append (method): [1, 2, 3, 4, 5, 6]\n"
     ]
    }
   ],
   "source": [
    "# Functions vs Methods example\n",
    "\n",
    "# Standalone function\n",
    "def add_numbers(a, b):\n",
    "    \"\"\"Add two numbers and return the result.\"\"\"\n",
    "    return a + b\n",
    "\n",
    "result = add_numbers(5, 3)\n",
    "print(f\"Function result: {result}\")  # Output: Function result: 8\n",
    "\n",
    "# Method (defined within a class)\n",
    "class Calculator:\n",
    "    def __init__(self, initial_value=0):\n",
    "        self.value = initial_value\n",
    "    \n",
    "    def add(self, number):\n",
    "        \"\"\"Add a number to the current value.\"\"\"\n",
    "        self.value += number\n",
    "        return self.value\n",
    "\n",
    "# Creating an object and calling its method\n",
    "calc = Calculator(10)\n",
    "method_result = calc.add(5)\n",
    "print(f\"Method result: {method_result}\")  # Output: Method result: 15\n",
    "\n",
    "# Built-in examples\n",
    "numbers = [1, 2, 3, 4, 5]\n",
    "\n",
    "# Using a function on an object\n",
    "length = len(numbers)  # function taking an object as argument\n",
    "print(f\"Length (function): {length}\")\n",
    "\n",
    "# Using a method of an object\n",
    "numbers.append(6)  # method of the list object\n",
    "print(f\"After append (method): {numbers}\")"
   ]
  },
  {
   "cell_type": "markdown",
   "id": "02c84df2",
   "metadata": {},
   "source": [
    "## Arguments: positional, keyword, default, `*args`, `**kwargs`\n",
    "\n",
    "Python offers flexible ways to pass arguments to functions:\n",
    "\n",
    "1. **Positional arguments**: Values matched to parameters by position\n",
    "2. **Keyword arguments**: Values matched to parameters by name\n",
    "3. **Default arguments**: Parameters with pre-defined values\n",
    "4. **Variable-length arguments**: Collection of extra positional (`*args`) or keyword (`**kwargs`) arguments"
   ]
  },
  {
   "cell_type": "code",
   "execution_count": 3,
   "id": "b5948762",
   "metadata": {
    "slideshow": {
     "slide_type": "slide"
    }
   },
   "outputs": [
    {
     "name": "stdout",
     "output_type": "stream",
     "text": [
      "I have a dog named Rex.\n",
      "I have a cat named Whiskers.\n",
      "The Python course is Beginner level and lasts 8 weeks.\n",
      "The Python course is Advanced level and lasts 12 weeks.\n",
      "The Java course is Beginner level and lasts 16 weeks.\n",
      "User profile: {'first_name': 'Albert', 'last_name': 'Einstein', 'field': 'physics', 'location': 'Princeton', 'awards': ['Nobel Prize']}\n",
      "Sum of 1, 2, 3: 6\n",
      "Sum of 10, 20: 30\n"
     ]
    }
   ],
   "source": [
    "# Different types of function arguments\n",
    "\n",
    "# 1. Positional arguments\n",
    "def describe_pet(animal_type, name):\n",
    "    \"\"\"Return a sentence describing a pet.\"\"\"\n",
    "    return f\"I have a {animal_type} named {name}.\"\n",
    "\n",
    "# Call with positional arguments (order matters)\n",
    "print(describe_pet(\"dog\", \"Rex\"))  # Output: I have a dog named Rex.\n",
    "\n",
    "# 2. Keyword arguments\n",
    "# Call with keyword arguments (order doesn't matter)\n",
    "print(describe_pet(name=\"Whiskers\", animal_type=\"cat\"))  # Output: I have a cat named Whiskers.\n",
    "\n",
    "# 3. Default arguments\n",
    "def describe_course(name, level=\"Beginner\", duration=8):\n",
    "    \"\"\"Return a sentence describing a course.\"\"\"\n",
    "    return f\"The {name} course is {level} level and lasts {duration} weeks.\"\n",
    "\n",
    "# Using default values\n",
    "print(describe_course(\"Python\"))  # Output: The Python course is Beginner level and lasts 8 weeks.\n",
    "# Overriding default values\n",
    "print(describe_course(\"Python\", \"Advanced\", 12))  # Output: The Python course is Advanced level and lasts 12 weeks.\n",
    "# Mix of positional and keyword arguments\n",
    "print(describe_course(\"Java\", duration=16))  # Output: The Java course is Beginner level and lasts 16 weeks.\n",
    "\n",
    "# 4. Variable-length arguments (*args and **kwargs)\n",
    "def build_profile(first, last, **user_info):\n",
    "    \"\"\"Build a dictionary containing user information.\"\"\"\n",
    "    profile = {\"first_name\": first, \"last_name\": last}\n",
    "    # Add any additional key-value pairs\n",
    "    profile.update(user_info)\n",
    "    return profile\n",
    "\n",
    "# Call with a mix of regular and keyword arguments\n",
    "user = build_profile(\"Albert\", \"Einstein\",\n",
    "                    field=\"physics\",\n",
    "                    location=\"Princeton\",\n",
    "                    awards=[\"Nobel Prize\"])\n",
    "\n",
    "print(f\"User profile: {user}\")\n",
    "\n",
    "# Function accepting any number of positional arguments\n",
    "def sum_all(*numbers):\n",
    "    \"\"\"Return the sum of all provided numbers.\"\"\"\n",
    "    return sum(numbers)\n",
    "\n",
    "print(f\"Sum of 1, 2, 3: {sum_all(1, 2, 3)}\")  # Output: Sum of 1, 2, 3: 6\n",
    "print(f\"Sum of 10, 20: {sum_all(10, 20)}\")    # Output: Sum of 10, 20: 30"
   ]
  },
  {
   "cell_type": "markdown",
   "id": "50a422ad",
   "metadata": {},
   "source": [
    "## Higher-Order Functions\n",
    "\n",
    "A **higher-order function** is a function that takes one or more functions as arguments, returns a function as a result, or both. This concept enables functional programming techniques.\n",
    "\n",
    "### Characteristics\n",
    "\n",
    "- Accepts functions as arguments\n",
    "- Returns a function as a result\n",
    "- Enables abstraction and code reuse\n",
    "\n",
    "### Common Higher-Order Functions in Python\n",
    "\n",
    "Python's standard library provides several built-in higher-order functions that are widely used for data processing and functional programming:\n",
    "\n",
    "#### 1. `map()`\n",
    "\n",
    "Applies a function to every item in an iterable and returns a map object (which can be converted to a list).\n",
    "\n",
    "```python\n",
    "numbers = [1, 2, 3, 4, 5]\n",
    "squared = list(map(lambda x: x ** 2, numbers))\n",
    "print(f\"Squared numbers: {squared}\")  # Output: Squared numbers: [1, 4, 9, 16, 25]\n",
    "```\n",
    "\n",
    "#### 2. `filter()`\n",
    "\n",
    "Filters items in an iterable based on a function that returns `True` or `False`.\n",
    "\n",
    "```python\n",
    "numbers = [1, 2, 3, 4, 5, 6]\n",
    "even_numbers = list(filter(lambda x: x % 2 == 0, numbers))\n",
    "print(f\"Even numbers: {even_numbers}\")  # Output: Even numbers: [2, 4, 6]\n",
    "```\n",
    "\n",
    "#### 4. `sorted()` with a key function\n",
    "\n",
    "Sorts an iterable using a function to extract a comparison key from each element.\n",
    "\n",
    "```python\n",
    "students = [\n",
    "    {\"name\": \"Alice\", \"grade\": 85},\n",
    "    {\"name\": \"Bob\", \"grade\": 92},\n",
    "    {\"name\": \"Charlie\", \"grade\": 78}\n",
    "]\n",
    "# Sort by grade in descending order\n",
    "sorted_students = sorted(students, key=lambda s: s[\"grade\"], reverse=True)\n",
    "print(\"Students sorted by grade:\")\n",
    "for student in sorted_students:\n",
    "    print(f\"{student['name']}: {student['grade']}\")\n",
    "```\n"
   ]
  },
  {
   "cell_type": "markdown",
   "id": "87a4fbf0",
   "metadata": {
    "slideshow": {
     "slide_type": "slide"
    }
   },
   "source": [
    "## Scope and Closures\n",
    "\n",
    "### Variable Scope\n",
    "\n",
    "Python uses lexical (static) scoping with the following scope hierarchy:\n",
    "\n",
    "1. **Local scope**: Variables defined inside a function\n",
    "2. **Enclosing scope**: Variables in outer function(s)\n",
    "3. **Global scope**: Variables defined at the top level of a module\n",
    "4. **Built-in scope**: Python's built-in names (like `print`, `len`)\n",
    "\n",
    "This hierarchy is sometimes called the LEGB rule (Local, Enclosing, Global, Built-in)."
   ]
  },
  {
   "cell_type": "code",
   "execution_count": 4,
   "id": "5b4fd293",
   "metadata": {
    "slideshow": {
     "slide_type": "slide"
    }
   },
   "outputs": [
    {
     "name": "stdout",
     "output_type": "stream",
     "text": [
      "Local z: 30\n",
      "Enclosing y: 20\n",
      "Global x: 100\n",
      "Local count: 1\n",
      "0\n",
      "Global count: 1\n",
      "1\n"
     ]
    }
   ],
   "source": [
    "# Variable scope demonstrations\n",
    "\n",
    "# Global scope\n",
    "x = 100  # Global variable\n",
    "\n",
    "def outer_function():\n",
    "    y = 20  # Enclosing scope variable\n",
    "    \n",
    "    def inner_function():\n",
    "        z = 30  # Local variable\n",
    "        # Access variables from different scopes\n",
    "        print(f\"Local z: {z}\")\n",
    "        print(f\"Enclosing y: {y}\")\n",
    "        print(f\"Global x: {x}\")\n",
    "    \n",
    "    # Call the inner function\n",
    "    inner_function()\n",
    "    \n",
    "    # Local scope of outer_function cannot access z\n",
    "    # print(z)  # This would raise a NameError\n",
    "\n",
    "# Call the outer function\n",
    "outer_function()\n",
    "\n",
    "# Global scope cannot access y or z\n",
    "# print(y)  # This would raise a NameError\n",
    "\n",
    "# Modifying global variables from within functions\n",
    "count = 0\n",
    "\n",
    "def increment():\n",
    "    # This creates a new local variable, not modifying the global one\n",
    "    count = 1\n",
    "    print(f\"Local count: {count}\")\n",
    "\n",
    "def increment_global():\n",
    "    global count  # Declare count as global\n",
    "    count += 1    # Now modifying the global variable\n",
    "    print(f\"Global count: {count}\")\n",
    "\n",
    "increment()        # Output: Local count: 1\n",
    "print(count)       # Output: 0 (unchanged)\n",
    "increment_global() # Output: Global count: 1\n",
    "print(count)       # Output: 1 (changed)"
   ]
  },
  {
   "cell_type": "markdown",
   "id": "99a89c89",
   "metadata": {
    "slideshow": {
     "slide_type": "slide"
    }
   },
   "source": [
    "### Closures\n",
    "\n",
    "A closure is a function object that remembers values in the enclosing scope even if they are not present in memory. Closures:\n",
    "\n",
    "- Are created when a nested function references a value from its enclosing scope\n",
    "- \"Close over\" variables from their containing scope\n",
    "- Allow for maintaining state between function calls\n",
    "- Form the basis for decorators and some functional programming patterns"
   ]
  },
  {
   "cell_type": "code",
   "execution_count": 5,
   "id": "91fe9ea5",
   "metadata": {
    "slideshow": {
     "slide_type": "slide"
    }
   },
   "outputs": [
    {
     "name": "stdout",
     "output_type": "stream",
     "text": [
      "1\n",
      "2\n",
      "1\n",
      "3\n",
      "Double 5: 10\n",
      "Triple 5: 15\n"
     ]
    }
   ],
   "source": [
    "# Closures in Python\n",
    "\n",
    "def make_counter():\n",
    "    \"\"\"Create a counter function that remembers its state using closure.\"\"\"\n",
    "    count = 0\n",
    "    \n",
    "    def counter():\n",
    "        nonlocal count  # Use the count variable from the enclosing scope\n",
    "        count += 1\n",
    "        return count\n",
    "    \n",
    "    return counter  # Return the inner function\n",
    "\n",
    "# Create two independent counters\n",
    "counter1 = make_counter()\n",
    "counter2 = make_counter()\n",
    "\n",
    "# Each counter maintains its own state\n",
    "print(counter1())  # Output: 1\n",
    "print(counter1())  # Output: 2\n",
    "print(counter2())  # Output: 1 (independent from counter1)\n",
    "print(counter1())  # Output: 3\n",
    "\n",
    "# Practical example: Creating a function with a configurable multiplier\n",
    "def create_multiplier(factor):\n",
    "    \"\"\"Create a function that multiplies its input by a specific factor.\"\"\"\n",
    "    def multiply(number):\n",
    "        return number * factor\n",
    "    \n",
    "    return multiply\n",
    "\n",
    "# Create specialized multipliers\n",
    "double = create_multiplier(2)\n",
    "triple = create_multiplier(3)\n",
    "\n",
    "print(f\"Double 5: {double(5)}\")  # Output: Double 5: 10\n",
    "print(f\"Triple 5: {triple(5)}\")  # Output: Triple 5: 15"
   ]
  },
  {
   "cell_type": "markdown",
   "id": "3db18817",
   "metadata": {
    "slideshow": {
     "slide_type": "slide"
    }
   },
   "source": [
    "## Lambda Functions\n",
    "\n",
    "Lambda functions are anonymous, inline functions defined with the `lambda` keyword. They are useful for creating small, one-time-use functions without formally defining them with `def`.\n",
    "\n",
    "### Syntax:\n",
    "```python\n",
    "lambda arguments: expression\n",
    "```\n",
    "\n",
    "Lambda functions:\n",
    "- Can take multiple arguments but contain only one expression\n",
    "- Automatically return the value of the expression\n",
    "- Are particularly useful in functional programming contexts\n",
    "- Often used with functions like `map()`, `filter()`, and `sorted()`"
   ]
  },
  {
   "cell_type": "code",
   "execution_count": 6,
   "id": "6328b292",
   "metadata": {
    "slideshow": {
     "slide_type": "slide"
    }
   },
   "outputs": [
    {
     "name": "stdout",
     "output_type": "stream",
     "text": [
      "5 + 3 = 8\n",
      "Students sorted by grade:\n",
      "Bob: 92\n",
      "Alice: 85\n",
      "Charlie: 78\n",
      "Even numbers: [2, 4, 6, 8, 10]\n",
      "Squared numbers: [1, 4, 9, 16, 25, 36, 49, 64, 81, 100]\n",
      "5 is odd\n",
      "6 is even\n"
     ]
    }
   ],
   "source": [
    "# Basic lambda function\n",
    "add = lambda x, y: x + y\n",
    "print(f\"5 + 3 = {add(5, 3)}\")  # Output: 5 + 3 = 8\n",
    "\n",
    "# Using lambda with built-in functions\n",
    "\n",
    "# Example 1: Sorting with lambda\n",
    "students = [\n",
    "    {\"name\": \"Alice\", \"grade\": 85},\n",
    "    {\"name\": \"Bob\", \"grade\": 92},\n",
    "    {\"name\": \"Charlie\", \"grade\": 78}\n",
    "]\n",
    "sorted_students = sorted(students, key=lambda student: student[\"grade\"], reverse=True)\n",
    "print(\"Students sorted by grade:\")\n",
    "for student in sorted_students:\n",
    "    print(f\"{student['name']}: {student['grade']}\")\n",
    "\n",
    "# Example 2: Using lambda with filter()\n",
    "numbers = [1, 2, 3, 4, 5, 6, 7, 8, 9, 10]\n",
    "even_numbers = list(filter(lambda x: x % 2 == 0, numbers))\n",
    "print(f\"Even numbers: {even_numbers}\")  # Output: Even numbers: [2, 4, 6, 8, 10]\n",
    "\n",
    "# Example 3: Using lambda with map()\n",
    "squared = list(map(lambda x: x**2, numbers))\n",
    "print(f\"Squared numbers: {squared}\")  # Output: Squared numbers: [1, 4, 9, 16, 25, 36, 49, 64, 81, 100]\n",
    "\n",
    "# Example 4: Conditional expression in lambda\n",
    "classify = lambda x: \"even\" if x % 2 == 0 else \"odd\"\n",
    "print(f\"5 is {classify(5)}\")  # Output: 5 is odd\n",
    "print(f\"6 is {classify(6)}\")  # Output: 6 is even"
   ]
  },
  {
   "cell_type": "markdown",
   "id": "302f879e",
   "metadata": {
    "slideshow": {
     "slide_type": "slide"
    }
   },
   "source": [
    "## Summary\n",
    "\n",
    "Python functions are a fundamental building block for organizing code and promoting reuse. Key concepts covered in this section include:\n",
    "\n",
    "- **Function Definition and Calling**: Creating reusable code blocks with optional parameters and return values\n",
    "- **Methods vs. Functions**: Understanding the difference between standalone functions and object methods\n",
    "- **Argument Types**: Working with positional, keyword, default, and variable-length arguments\n",
    "- **Scope and Closures**: Managing variable visibility and creating functions that remember their environment\n",
    "- **Lambda Functions**: Writing compact, anonymous functions for one-time use\n",
    "\n",
    "Functions are the primary means of abstraction in Python, allowing for modular, maintainable, and testable code. More advanced functional programming techniques are enabled by Python's treatment of functions as first-class objects, which can be passed as arguments, returned from other functions, and assigned to variables.\n",
    "\n",
    "For further exploration:\n",
    "- The `functools` module for higher-order functions\n"
   ]
  }
 ],
 "metadata": {
  "kernelspec": {
   "display_name": "Python 3 (ipykernel)",
   "language": "python",
   "name": "python3"
  }
 },
 "nbformat": 4,
 "nbformat_minor": 5
}
