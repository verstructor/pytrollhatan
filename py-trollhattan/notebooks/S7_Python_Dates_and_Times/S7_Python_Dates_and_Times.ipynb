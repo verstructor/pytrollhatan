{
 "cells": [
  {
   "cell_type": "markdown",
   "id": "e117b824",
   "metadata": {
    "slideshow": {
     "slide_type": "slide"
    }
   },
   "source": [
    "# Section 7: Python Dates and Times\n",
    "This section explores how to work with dates and times in Python using the standard library. Topics include the `time` and `datetime` modules, time structures, string formatting, and time intervals."
   ]
  },
  {
   "cell_type": "markdown",
   "id": "9efe9cb2",
   "metadata": {
    "slideshow": {
     "slide_type": "slide"
    }
   },
   "source": [
    "## Understanding Time in Programming\n",
    "Time is often represented as the number of seconds since the Unix epoch (January 1, 1970). Python provides modules to work with time in various formats."
   ]
  },
  {
   "cell_type": "markdown",
   "id": "15946d26",
   "metadata": {
    "slideshow": {
     "slide_type": "slide"
    }
   },
   "source": [
    "## The `time` Module\n",
    "The `time` module provides functions for working with time, including retrieving the current time, pausing execution, and formatting time values."
   ]
  },
  {
   "cell_type": "code",
   "execution_count": null,
   "id": "d5c645bf",
   "metadata": {
    "slideshow": {
     "slide_type": "slide"
    }
   },
   "outputs": [],
   "source": [
    "import time\n",
    "\n",
    "# Get the current time in seconds since the epoch\n",
    "current_time = time.time()\n",
    "print(f\"Current time (seconds since epoch): {current_time}\")"
   ]
  },
  {
   "cell_type": "markdown",
   "id": "eb052e84",
   "metadata": {},
   "source": [
    "## Time Structures\n",
    "The `time` module uses the `struct_time` object to represent time in a tuple-like structure."
   ]
  },
  {
   "cell_type": "code",
   "execution_count": null,
   "id": "3dd71dfe",
   "metadata": {
    "slideshow": {
     "slide_type": "slide"
    }
   },
   "outputs": [],
   "source": [
    "# Get the current local time as a struct_time object\n",
    "local_time = time.localtime()\n",
    "print(\"Local time struct:\", local_time)\n",
    "\n",
    "# Accessing individual fields\n",
    "print(f\"Year: {local_time.tm_year}, Month: {local_time.tm_mon}, Day: {local_time.tm_mday}\")"
   ]
  },
  {
   "cell_type": "markdown",
   "id": "d67557ad",
   "metadata": {
    "slideshow": {
     "slide_type": "slide"
    }
   },
   "source": [
    "## Times as Strings\n",
    "Time values can be converted to and from strings for display or parsing."
   ]
  },
  {
   "cell_type": "code",
   "execution_count": null,
   "id": "188869dc",
   "metadata": {
    "slideshow": {
     "slide_type": "slide"
    }
   },
   "outputs": [],
   "source": [
    "# Convert struct_time to a formatted string\n",
    "time_str = time.strftime(\"%Y-%m-%d %H:%M:%S\", local_time)\n",
    "print(\"Formatted time:\", time_str)\n",
    "\n",
    "# Parse a string back to struct_time\n",
    "parsed_time = time.strptime(\"2025-06-08 12:00:00\", \"%Y-%m-%d %H:%M:%S\")\n",
    "print(\"Parsed struct_time:\", parsed_time)"
   ]
  },
  {
   "cell_type": "markdown",
   "id": "4c3dcd6c",
   "metadata": {},
   "source": [
    "## Pausing Execution with `time.sleep()`\n",
    "The `sleep()` function pauses program execution for a specified number of seconds."
   ]
  },
  {
   "cell_type": "code",
   "execution_count": null,
   "id": "094ee901",
   "metadata": {
    "slideshow": {
     "slide_type": "slide"
    }
   },
   "outputs": [],
   "source": [
    "print(\"Pausing for 2 seconds...\")\n",
    "time.sleep(2)\n",
    "print(\"Resumed.\")"
   ]
  },
  {
   "cell_type": "markdown",
   "id": "8fab5db0",
   "metadata": {},
   "source": [
    "## The `datetime` Module\n",
    "The `datetime` module provides classes for manipulating dates and times in a more convenient and object-oriented way."
   ]
  },
  {
   "cell_type": "code",
   "execution_count": null,
   "id": "a8689fc2",
   "metadata": {
    "slideshow": {
     "slide_type": "slide"
    }
   },
   "outputs": [],
   "source": [
    "from datetime import datetime, date, time\n",
    "\n",
    "# Current date and time\n",
    "dt_now = datetime.now()\n",
    "print(\"Current datetime:\", dt_now)\n",
    "\n",
    "# Create a specific date and time\n",
    "dt_custom = datetime(2025, 6, 8, 14, 30)\n",
    "print(\"Custom datetime:\", dt_custom)"
   ]
  },
  {
   "cell_type": "markdown",
   "id": "53075ec2",
   "metadata": {},
   "source": [
    "## `timedelta` Objects\n",
    "A `timedelta` represents a duration, the difference between two dates or times."
   ]
  },
  {
   "cell_type": "code",
   "execution_count": null,
   "id": "b4645046",
   "metadata": {
    "slideshow": {
     "slide_type": "slide"
    }
   },
   "outputs": [],
   "source": [
    "from datetime import timedelta\n",
    "\n",
    "# Create a timedelta of 7 days\n",
    "one_week = timedelta(days=7)\n",
    "print(\"One week:\", one_week)\n",
    "\n",
    "# Add timedelta to a datetime\n",
    "future_date = dt_now + one_week\n",
    "print(\"Date one week from now:\", future_date)"
   ]
  },
  {
   "cell_type": "markdown",
   "id": "64461fe1",
   "metadata": {
    "slideshow": {
     "slide_type": "slide"
    }
   },
   "source": [
    "## Summary\n",
    "- The `time` and `datetime` modules provide robust tools for working with dates and times.\n",
    "- Use `time` for low-level time operations and `datetime` for higher-level date and time manipulation.\n",
    "- String formatting and parsing are essential for displaying and reading date/time values.\n",
    "- `timedelta` objects make it easy to perform arithmetic with dates and times."
   ]
  }
 ],
 "metadata": {
  "language_info": {
   "name": "python"
  }
 },
 "nbformat": 4,
 "nbformat_minor": 5
}
