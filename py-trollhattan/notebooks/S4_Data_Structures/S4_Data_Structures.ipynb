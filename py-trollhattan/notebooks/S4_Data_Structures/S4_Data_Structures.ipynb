{
 "cells": [
  {
   "cell_type": "markdown",
   "id": "68f67e16",
   "metadata": {
    "slideshow": {
     "slide_type": "slide"
    }
   },
   "source": [
    "# Section 4. Data Structures\n",
    "\n",
    "- Sequences\n",
    "- Lists\n",
    "- Sequences and Random\n",
    "- Tuples\n",
    "- Ranges\n",
    "- Converting Sequences to Lists\n",
    "- Indexing\n",
    "- Slicing\n",
    "- min(), max(), and sum()\n",
    "- Converting between Sequences and Strings\n",
    "- Unpacking Sequences\n",
    "- Dictionaries\n",
    "- The len() Function\n",
    "- Sets\n",
    "- *args and **kwargs\n",
    "- Stacks, Queues, Priority Queues (collections module)\n",
    "- DefaultDict, Counter, NamedTuple, ChainMap\n",
    "- Summary"
   ]
  },
  {
   "cell_type": "code",
   "execution_count": 1,
   "id": "d1330d6d",
   "metadata": {
    "slideshow": {
     "slide_type": "slide"
    }
   },
   "outputs": [
    {
     "name": "stdout",
     "output_type": "stream",
     "text": [
      "First character: P\n",
      "Slice: yth\n",
      "Length: 6\n",
      "Contains 'th'? True\n",
      "Hello, World!\n",
      "Python Python Python \n",
      "P-y-t-h-o-n-\n"
     ]
    }
   ],
   "source": [
    "# Common sequence operations\n",
    "\n",
    "# String (sequence of characters)\n",
    "text = \"Python\"\n",
    "print(f\"First character: {text[0]}\")  # Indexing\n",
    "print(f\"Slice: {text[1:4]}\")          # Slicing\n",
    "print(f\"Length: {len(text)}\")         # Length\n",
    "print(f\"Contains 'th'? {'th' in text}\")  # Membership testing\n",
    "\n",
    "# Concatenation and repetition\n",
    "greeting = \"Hello\" + \", \" + \"World!\"\n",
    "print(greeting)\n",
    "\n",
    "repeated = \"Python \" * 3\n",
    "print(repeated)  # Output: Python Python Python\n",
    "\n",
    "# Iterating through a sequence\n",
    "for char in text:\n",
    "    print(char, end=\"-\")\n",
    "print()"
   ]
  },
  {
   "cell_type": "markdown",
   "id": "4972a53f",
   "metadata": {
    "slideshow": {
     "slide_type": "slide"
    }
   },
   "source": [
    "## Lists\n",
    "\n",
    "Lists are mutable, ordered sequences of items. They can contain elements of different types, including other lists.\n",
    "\n",
    "Key features:\n",
    "- Created with square brackets `[]` or the `list()` constructor\n",
    "- Mutable (can be modified after creation)\n",
    "- Elements accessed by index (zero-based)\n",
    "- Dynamic sizing (can grow or shrink)\n",
    "- Support methods like append(), insert(), remove(), sort(), etc."
   ]
  },
  {
   "cell_type": "code",
   "execution_count": 2,
   "id": "2ed088b7",
   "metadata": {
    "slideshow": {
     "slide_type": "slide"
    }
   },
   "outputs": [
    {
     "name": "stdout",
     "output_type": "stream",
     "text": [
      "First element: 1\n",
      "Last element: 5\n",
      "Nested element: 2\n",
      "Original list: ['apple', 'banana', 'cherry']\n",
      "After adding elements: ['apple', 'blueberry', 'banana', 'cherry', 'orange']\n",
      "Removed element: blueberry\n",
      "After removing elements: ['apple', 'cherry', 'orange']\n",
      "Sorted list: [1, 1, 2, 3, 4, 5, 9]\n",
      "Reversed list: [9, 5, 4, 3, 2, 1, 1]\n",
      "Count of 1: 2\n",
      "Squares: [1, 4, 9, 16, 25]\n",
      "Even squares: [4, 16, 36, 64, 100]\n"
     ]
    }
   ],
   "source": [
    "# Creating and using lists\n",
    "\n",
    "# Creating lists\n",
    "empty_list = []\n",
    "numbers = [1, 2, 3, 4, 5]\n",
    "mixed = [1, \"hello\", 3.14, True, [1, 2]]\n",
    "\n",
    "# Accessing elements\n",
    "print(f\"First element: {numbers[0]}\")        # Output: 1\n",
    "print(f\"Last element: {numbers[-1]}\")        # Output: 5\n",
    "print(f\"Nested element: {mixed[4][1]}\")      # Output: 2\n",
    "\n",
    "# Modifying lists\n",
    "fruits = [\"apple\", \"banana\", \"cherry\"]\n",
    "print(f\"Original list: {fruits}\")\n",
    "\n",
    "# Adding elements\n",
    "fruits.append(\"orange\")                      # Append to the end\n",
    "fruits.insert(1, \"blueberry\")                # Insert at specified position\n",
    "print(f\"After adding elements: {fruits}\")\n",
    "\n",
    "# Removing elements\n",
    "fruits.remove(\"banana\")                      # Remove by value\n",
    "popped = fruits.pop(1)                       # Remove by index and return the value\n",
    "print(f\"Removed element: {popped}\")\n",
    "print(f\"After removing elements: {fruits}\")\n",
    "\n",
    "# List methods\n",
    "numbers = [3, 1, 4, 1, 5, 9, 2]\n",
    "numbers.sort()                               # Sort in-place\n",
    "print(f\"Sorted list: {numbers}\")\n",
    "\n",
    "numbers.reverse()                            # Reverse in-place\n",
    "print(f\"Reversed list: {numbers}\")\n",
    "\n",
    "print(f\"Count of 1: {numbers.count(1)}\")    # Count occurrences\n",
    "\n",
    "# List comprehensions\n",
    "squares = [x**2 for x in range(1, 6)]\n",
    "print(f\"Squares: {squares}\")                 # Output: [1, 4, 9, 16, 25]\n",
    "\n",
    "even_squares = [x**2 for x in range(1, 11) if x % 2 == 0]\n",
    "print(f\"Even squares: {even_squares}\")       # Output: [4, 16, 36, 64, 100]"
   ]
  },
  {
   "cell_type": "markdown",
   "id": "871ac87c",
   "metadata": {
    "slideshow": {
     "slide_type": "slide"
    }
   },
   "source": [
    "## Sequences and Random\n",
    "\n",
    "The `random` module provides tools for working with sequences in non-deterministic ways:\n",
    "\n",
    "- Selecting random elements\n",
    "- Shuffling sequences\n",
    "- Generating random samples\n",
    "- Creating random sequences\n",
    "\n",
    "These functions are useful for simulations, games, statistical sampling, and testing."
   ]
  },
  {
   "cell_type": "code",
   "execution_count": 3,
   "id": "149453e2",
   "metadata": {
    "slideshow": {
     "slide_type": "slide"
    }
   },
   "outputs": [
    {
     "name": "stdout",
     "output_type": "stream",
     "text": [
      "Random fruit: date\n",
      "Multiple selections: ['date', 'elderberry', 'fig']\n",
      "Sample without replacement: ['date', 'elderberry', 'fig']\n",
      "Original list: [1, 2, 3, 4, 5, 6, 7, 8, 9, 10]\n",
      "Shuffled list: [9, 10, 2, 7, 5, 8, 4, 1, 6, 3]\n",
      "Random integers: [96, 80, 89, 35, 49]\n",
      "Weighted selection: ['fig', 'fig', 'banana', 'cherry']\n"
     ]
    }
   ],
   "source": [
    "import random\n",
    "\n",
    "# Working with sequences and random\n",
    "\n",
    "# Random element selection\n",
    "fruits = [\"apple\", \"banana\", \"cherry\", \"date\", \"elderberry\", \"fig\"]\n",
    "random_fruit = random.choice(fruits)\n",
    "print(f\"Random fruit: {random_fruit}\")\n",
    "\n",
    "# Multiple random selections (with replacement)\n",
    "selections = random.choices(fruits, k=3)\n",
    "print(f\"Multiple selections: {selections}\")\n",
    "\n",
    "# Random sample (without replacement)\n",
    "sample = random.sample(fruits, k=3)\n",
    "print(f\"Sample without replacement: {sample}\")\n",
    "\n",
    "# Shuffling a sequence\n",
    "numbers = list(range(1, 11))\n",
    "print(f\"Original list: {numbers}\")\n",
    "random.shuffle(numbers)\n",
    "print(f\"Shuffled list: {numbers}\")\n",
    "\n",
    "# Random sequence generation\n",
    "random_ints = [random.randint(1, 100) for _ in range(5)]\n",
    "print(f\"Random integers: {random_ints}\")\n",
    "\n",
    "# Weighted random selection\n",
    "weighted_fruits = random.choices(\n",
    "    fruits, \n",
    "    weights=[10, 5, 1, 3, 2, 8],  # Higher weight = higher probability\n",
    "    k=4\n",
    ")\n",
    "print(f\"Weighted selection: {weighted_fruits}\")"
   ]
  },
  {
   "cell_type": "markdown",
   "id": "140c82ca",
   "metadata": {
    "slideshow": {
     "slide_type": "slide"
    }
   },
   "source": [
    "## Tuples\n",
    "\n",
    "Tuples are immutable, ordered sequences of items. Since they cannot be modified after creation, they're more memory-efficient than lists and can be used as dictionary keys.\n",
    "\n",
    "Key features:\n",
    "- Created with parentheses `()` or the `tuple()` constructor\n",
    "- Immutable (cannot be modified after creation)\n",
    "- Elements accessed by index (zero-based)\n",
    "- Often used for returning multiple values from functions\n",
    "- Used for heterogeneous data that belongs together"
   ]
  },
  {
   "cell_type": "code",
   "execution_count": 4,
   "id": "e5d80e40",
   "metadata": {
    "slideshow": {
     "slide_type": "slide"
    }
   },
   "outputs": [
    {
     "name": "stdout",
     "output_type": "stream",
     "text": [
      "X coordinate: 10\n",
      "Y coordinate: 20\n",
      "Name: John Doe\n",
      "Profession: Developer, Age: 30\n",
      "Count of 2: 3\n",
      "Index of 3: 2\n",
      "Resolution: 1920×1080\n",
      "List size: 104 bytes\n",
      "Tuple size: 80 bytes\n",
      "Matrix element [1][2]: 6\n"
     ]
    }
   ],
   "source": [
    "# Working with tuples\n",
    "\n",
    "# Creating tuples\n",
    "empty_tuple = ()\n",
    "single_item = (1,)  # Note: comma is required for single-item tuples\n",
    "coordinates = (10, 20)\n",
    "person = (\"John\", \"Doe\", 30, \"Developer\")\n",
    "\n",
    "# Accessing elements\n",
    "print(f\"X coordinate: {coordinates[0]}\")\n",
    "print(f\"Y coordinate: {coordinates[1]}\")\n",
    "print(f\"Name: {person[0]} {person[1]}\")\n",
    "\n",
    "# Tuple unpacking\n",
    "name, surname, age, profession = person\n",
    "print(f\"Profession: {profession}, Age: {age}\")\n",
    "\n",
    "# Tuple methods (limited since tuples are immutable)\n",
    "numbers = (1, 2, 3, 2, 4, 2)\n",
    "print(f\"Count of 2: {numbers.count(2)}\")  # Output: 3\n",
    "print(f\"Index of 3: {numbers.index(3)}\")  # Output: 2\n",
    "\n",
    "# Tuples as return values\n",
    "def get_dimensions():\n",
    "    return (1920, 1080)  # Return multiple values as a tuple\n",
    "\n",
    "width, height = get_dimensions()  # Unpack the returned tuple\n",
    "print(f\"Resolution: {width}×{height}\")\n",
    "\n",
    "# Tuples vs lists performance\n",
    "import sys\n",
    "list_size = sys.getsizeof([1, 2, 3, 4, 5])\n",
    "tuple_size = sys.getsizeof((1, 2, 3, 4, 5))\n",
    "print(f\"List size: {list_size} bytes\")\n",
    "print(f\"Tuple size: {tuple_size} bytes\")\n",
    "\n",
    "# Nested tuples\n",
    "matrix = ((1, 2, 3), (4, 5, 6), (7, 8, 9))\n",
    "print(f\"Matrix element [1][2]: {matrix[1][2]}\")  # Output: 6"
   ]
  },
  {
   "cell_type": "markdown",
   "id": "ce1f3e50",
   "metadata": {
    "slideshow": {
     "slide_type": "slide"
    }
   },
   "source": [
    "## Ranges\n",
    "\n",
    "Range objects represent immutable sequences of numbers, commonly used for looping a specific number of times. They're memory-efficient because they don't store all values in memory, but calculate them as needed.\n",
    "\n",
    "Range syntax:\n",
    "- `range(stop)`: Sequence from 0 to stop-1\n",
    "- `range(start, stop)`: Sequence from start to stop-1\n",
    "- `range(start, stop, step)`: Sequence from start to stop-1 with the given step"
   ]
  },
  {
   "cell_type": "code",
   "execution_count": 5,
   "id": "f0b347d3",
   "metadata": {
    "slideshow": {
     "slide_type": "slide"
    }
   },
   "outputs": [
    {
     "name": "stdout",
     "output_type": "stream",
     "text": [
      "List of 1000 items size: 8056 bytes\n",
      "Range of 1000 items size: 48 bytes\n",
      "Counting with range:\n",
      "1 2 3 4 5 \n",
      "Is 5 in range(10)? True\n",
      "Is 10 in range(10)? False\n",
      "First element: 5\n",
      "Length: 7\n",
      "Last element: 23\n",
      "Squares: [1, 4, 9, 16, 25]\n"
     ]
    }
   ],
   "source": [
    "# Working with ranges\n",
    "\n",
    "# Creating ranges\n",
    "r1 = range(5)               # 0, 1, 2, 3, 4\n",
    "r2 = range(2, 8)            # 2, 3, 4, 5, 6, 7\n",
    "r3 = range(1, 10, 2)        # 1, 3, 5, 7, 9\n",
    "r4 = range(10, 0, -1)       # 10, 9, 8, 7, 6, 5, 4, 3, 2, 1\n",
    "\n",
    "# Ranges are memory efficient (only stores start, stop, step)\n",
    "import sys\n",
    "list_size = sys.getsizeof(list(range(1000)))\n",
    "range_size = sys.getsizeof(range(1000))\n",
    "print(f\"List of 1000 items size: {list_size} bytes\")\n",
    "print(f\"Range of 1000 items size: {range_size} bytes\")\n",
    "\n",
    "# Common range usage: for loops\n",
    "print(\"Counting with range:\")\n",
    "for i in range(1, 6):\n",
    "    print(i, end=\" \")\n",
    "print()\n",
    "\n",
    "# Testing if a number is in a range\n",
    "print(f\"Is 5 in range(10)? {5 in range(10)}\")        # True\n",
    "print(f\"Is 10 in range(10)? {10 in range(10)}\")      # False\n",
    "\n",
    "# Accessing elements and getting length\n",
    "r = range(5, 25, 3)\n",
    "print(f\"First element: {r[0]}\")       # Output: 5\n",
    "print(f\"Length: {len(r)}\")            # Output: 7\n",
    "print(f\"Last element: {r[-1]}\")       # Output: 23\n",
    "\n",
    "# Using range in list comprehensions\n",
    "squares = [x**2 for x in range(1, 6)]\n",
    "print(f\"Squares: {squares}\")          # Output: [1, 4, 9, 16, 25]"
   ]
  },
  {
   "cell_type": "markdown",
   "id": "3b772026",
   "metadata": {
    "slideshow": {
     "slide_type": "slide"
    }
   },
   "source": [
    "## Converting Sequences to Lists\n",
    "\n",
    "Sequences can be converted to lists using the `list()` constructor. This is useful for:\n",
    "\n",
    "- Converting immutable sequences to mutable lists\n",
    "- Extracting items from iterators into a concrete list\n",
    "- Creating a copy of a list\n",
    "- Converting other iterable types to lists"
   ]
  },
  {
   "cell_type": "code",
   "execution_count": 6,
   "id": "d2409fcc",
   "metadata": {
    "slideshow": {
     "slide_type": "slide"
    }
   },
   "outputs": [
    {
     "name": "stdout",
     "output_type": "stream",
     "text": [
      "Characters list: ['P', 'y', 't', 'h', 'o', 'n']\n",
      "Numbers list: [5, 6, 7, 8, 9]\n",
      "Coordinates list: [10, 20, 30]\n",
      "Squares list: [1, 4, 9, 16, 25]\n",
      "From set to list: [1, 3, 4, 5]\n",
      "Original: [1, 2, 3], Copy: [1, 2, 3, 4]\n"
     ]
    }
   ],
   "source": [
    "# Converting sequences to lists\n",
    "\n",
    "# Converting strings to lists\n",
    "characters = list(\"Python\")\n",
    "print(f\"Characters list: {characters}\")  # Output: ['P', 'y', 't', 'h', 'o', 'n']\n",
    "\n",
    "# Converting range to list\n",
    "numbers = list(range(5, 10))\n",
    "print(f\"Numbers list: {numbers}\")      # Output: [5, 6, 7, 8, 9]\n",
    "\n",
    "# Converting tuples to lists\n",
    "coordinates = (10, 20, 30)\n",
    "coordinates_list = list(coordinates)\n",
    "print(f\"Coordinates list: {coordinates_list}\")  # Output: [10, 20, 30]\n",
    "\n",
    "# Converting iterators to lists\n",
    "squares_iterator = map(lambda x: x**2, range(1, 6))\n",
    "squares_list = list(squares_iterator)\n",
    "print(f\"Squares list: {squares_list}\")  # Output: [1, 4, 9, 16, 25]\n",
    "\n",
    "# Converting sets to lists (note: sets are unordered)\n",
    "unique_numbers = {3, 1, 4, 1, 5}\n",
    "numbers_list = list(unique_numbers)\n",
    "print(f\"From set to list: {numbers_list}\")  # Output may vary, e.g., [1, 3, 4, 5]\n",
    "\n",
    "# Creating a copy of a list\n",
    "original = [1, 2, 3]\n",
    "copy = list(original)\n",
    "copy.append(4)\n",
    "print(f\"Original: {original}, Copy: {copy}\")  # Original remains unchanged"
   ]
  },
  {
   "cell_type": "markdown",
   "id": "e7ba68da",
   "metadata": {
    "slideshow": {
     "slide_type": "slide"
    }
   },
   "source": [
    "## Indexing\n",
    "\n",
    "Indexing provides direct access to elements within sequences. Python uses zero-based indexing, where the first element is at index 0.\n",
    "\n",
    "Key indexing features:\n",
    "- Positive indices start from 0 at the beginning\n",
    "- Negative indices start from -1 at the end\n",
    "- Attempting to access an out-of-range index raises an `IndexError`"
   ]
  },
  {
   "cell_type": "code",
   "execution_count": 7,
   "id": "78967774",
   "metadata": {
    "slideshow": {
     "slide_type": "slide"
    }
   },
   "outputs": [
    {
     "name": "stdout",
     "output_type": "stream",
     "text": [
      "First element of numbers: 10\n",
      "Second element of text: y\n",
      "Third element of coords: 15\n",
      "Last element of numbers: 50\n",
      "Second-to-last of text: o\n",
      "Third-from-last of coords: 15\n",
      "Element at position 2: 30\n",
      "Middle element of matrix: 5\n",
      "Error: list index out of range\n",
      "User name: Alice\n",
      "User location: Not specified\n"
     ]
    }
   ],
   "source": [
    "# Sequence indexing\n",
    "\n",
    "# Create test sequences\n",
    "numbers = [10, 20, 30, 40, 50]\n",
    "text = \"Python\"\n",
    "coords = (5, 10, 15, 20, 25)\n",
    "\n",
    "# Positive indexing (0-based)\n",
    "print(f\"First element of numbers: {numbers[0]}\")      # Output: 10\n",
    "print(f\"Second element of text: {text[1]}\")           # Output: y\n",
    "print(f\"Third element of coords: {coords[2]}\")        # Output: 15\n",
    "\n",
    "# Negative indexing (from the end)\n",
    "print(f\"Last element of numbers: {numbers[-1]}\")      # Output: 50\n",
    "print(f\"Second-to-last of text: {text[-2]}\")          # Output: o\n",
    "print(f\"Third-from-last of coords: {coords[-3]}\")     # Output: 15\n",
    "\n",
    "# Using variables as indices\n",
    "i = 2\n",
    "print(f\"Element at position {i}: {numbers[i]}\")       # Output: 30\n",
    "\n",
    "# Indexing in nested sequences\n",
    "matrix = [[1, 2, 3], [4, 5, 6], [7, 8, 9]]\n",
    "print(f\"Middle element of matrix: {matrix[1][1]}\")    # Output: 5\n",
    "\n",
    "# Error handling for invalid indices\n",
    "try:\n",
    "    value = numbers[10]  # Index out of range\n",
    "except IndexError as e:\n",
    "    print(f\"Error: {e}\")\n",
    "\n",
    "# Using the get method for dictionaries (avoids KeyError)\n",
    "user = {\"name\": \"Alice\", \"age\": 30}\n",
    "print(f\"User name: {user.get('name', 'Unknown')}\")\n",
    "print(f\"User location: {user.get('location', 'Not specified')}\")"
   ]
  },
  {
   "cell_type": "markdown",
   "id": "f1b559e3",
   "metadata": {
    "slideshow": {
     "slide_type": "slide"
    }
   },
   "source": [
    "## Slicing\n",
    "\n",
    "Slicing extracts subsequences from sequences using the syntax `sequence[start:stop:step]`. This creates a new sequence containing elements from the original.\n",
    "\n",
    "Slicing components:\n",
    "- `start`: First index to include (defaults to 0)\n",
    "- `stop`: First index to exclude (defaults to length of sequence)\n",
    "- `step`: Increment between indices (defaults to 1)"
   ]
  },
  {
   "cell_type": "code",
   "execution_count": 8,
   "id": "dd2a42b1",
   "metadata": {
    "slideshow": {
     "slide_type": "slide"
    }
   },
   "outputs": [
    {
     "name": "stdout",
     "output_type": "stream",
     "text": [
      "First three numbers: [0, 1, 2]\n",
      "Letters 2-5 of text: thon\n",
      "First five numbers: [0, 1, 2, 3, 4]\n",
      "From index 6 to end: [6, 7, 8, 9]\n",
      "Full copy via slice: [0, 1, 2, 3, 4, 5, 6, 7, 8, 9]\n",
      "Every second number: [0, 2, 4, 6, 8]\n",
      "Every third from index 1: [1, 4, 7]\n",
      "Last three items: [7, 8, 9]\n",
      "Everything except last two: [0, 1, 2, 3, 4, 5, 6, 7]\n",
      "Reversed numbers: [9, 8, 7, 6, 5, 4, 3, 2, 1, 0]\n",
      "Reversed string: gnimmargorP nohtyP\n",
      "First word: Python\n",
      "Every other character: Pto rgamn\n"
     ]
    }
   ],
   "source": [
    "# Sequence slicing\n",
    "\n",
    "# Create test sequences\n",
    "numbers = [0, 1, 2, 3, 4, 5, 6, 7, 8, 9]\n",
    "text = \"Python Programming\"\n",
    "\n",
    "# Basic slicing [start:stop]\n",
    "print(f\"First three numbers: {numbers[0:3]}\")         # Output: [0, 1, 2]\n",
    "print(f\"Letters 2-5 of text: {text[2:6]}\")           # Output: thon\n",
    "\n",
    "# Omitting start or stop\n",
    "print(f\"First five numbers: {numbers[:5]}\")           # Output: [0, 1, 2, 3, 4]\n",
    "print(f\"From index 6 to end: {numbers[6:]}\")         # Output: [6, 7, 8, 9]\n",
    "print(f\"Full copy via slice: {numbers[:]}\")          # Output: [0, 1, 2, 3, 4, 5, 6, 7, 8, 9]\n",
    "\n",
    "# Using step [start:stop:step]\n",
    "print(f\"Every second number: {numbers[::2]}\")        # Output: [0, 2, 4, 6, 8]\n",
    "print(f\"Every third from index 1: {numbers[1:9:3]}\") # Output: [1, 4, 7]\n",
    "\n",
    "# Negative indices in slices\n",
    "print(f\"Last three items: {numbers[-3:]}\")           # Output: [7, 8, 9]\n",
    "print(f\"Everything except last two: {numbers[:-2]}\") # Output: [0, 1, 2, 3, 4, 5, 6, 7]\n",
    "\n",
    "# Negative step (reverses direction)\n",
    "print(f\"Reversed numbers: {numbers[::-1]}\")          # Output: [9, 8, 7, 6, 5, 4, 3, 2, 1, 0]\n",
    "print(f\"Reversed string: {text[::-1]}\")              # Output: gnimmargorP nohtyP\n",
    "\n",
    "# Extracting words with slices\n",
    "sentence = \"Python is powerful\"\n",
    "first_word = sentence[:6]\n",
    "print(f\"First word: {first_word}\")                   # Output: Python\n",
    "\n",
    "# Slicing with stride\n",
    "print(f\"Every other character: {text[::2]}\")         # Output: Pto rgamn"
   ]
  },
  {
   "cell_type": "markdown",
   "id": "67d26294",
   "metadata": {
    "slideshow": {
     "slide_type": "slide"
    }
   },
   "source": [
    "## min(), max(), and sum()\n",
    "\n",
    "Python provides built-in functions to find minimum values, maximum values, and calculate sums from sequences:\n",
    "\n",
    "- `min()`: Returns the smallest item in a sequence\n",
    "- `max()`: Returns the largest item in a sequence\n",
    "- `sum()`: Returns the sum of all items in a sequence (must be numeric)\n",
    "\n",
    "These functions work with any iterable containing comparable or numeric elements."
   ]
  },
  {
   "cell_type": "code",
   "execution_count": 9,
   "id": "8bf47830",
   "metadata": {
    "slideshow": {
     "slide_type": "slide"
    }
   },
   "outputs": [
    {
     "name": "stdout",
     "output_type": "stream",
     "text": [
      "Minimum: 1\n",
      "Maximum: 9\n",
      "Sum: 27\n",
      "First alphabetically: apple\n",
      "Last alphabetically: date\n",
      "Student with lowest score: Charlie\n",
      "Student with highest score: Bob\n",
      "Sum starting from 100: 127\n",
      "Total characters in all words: 21\n",
      "Min of all: -10\n",
      "Point with lowest y-coordinate: (4, 1)\n"
     ]
    }
   ],
   "source": [
    "# Using min(), max(), and sum() functions\n",
    "\n",
    "# Simple number operations\n",
    "numbers = [5, 2, 9, 1, 7, 3]\n",
    "print(f\"Minimum: {min(numbers)}\")       # Output: 1\n",
    "print(f\"Maximum: {max(numbers)}\")       # Output: 9\n",
    "print(f\"Sum: {sum(numbers)}\")           # Output: 27\n",
    "\n",
    "# With strings (lexicographical comparison)\n",
    "words = [\"apple\", \"banana\", \"cherry\", \"date\"]\n",
    "print(f\"First alphabetically: {min(words)}\")   # Output: apple\n",
    "print(f\"Last alphabetically: {max(words)}\")    # Output: date\n",
    "\n",
    "# With custom objects using key function\n",
    "students = [\n",
    "    {\"name\": \"Alice\", \"score\": 85},\n",
    "    {\"name\": \"Bob\", \"score\": 92},\n",
    "    {\"name\": \"Charlie\", \"score\": 78}\n",
    "]\n",
    "\n",
    "# Find student with minimum score\n",
    "lowest_scorer = min(students, key=lambda s: s[\"score\"])\n",
    "print(f\"Student with lowest score: {lowest_scorer['name']}\")  # Output: Charlie\n",
    "\n",
    "# Find student with maximum score\n",
    "highest_scorer = max(students, key=lambda s: s[\"score\"])\n",
    "print(f\"Student with highest score: {highest_scorer['name']}\")  # Output: Bob\n",
    "\n",
    "# Using sum with different start value\n",
    "print(f\"Sum starting from 100: {sum(numbers, 100)}\")  # Output: 127\n",
    "\n",
    "# Advanced usage: sum of lengths\n",
    "total_length = sum(len(word) for word in words)\n",
    "print(f\"Total characters in all words: {total_length}\")  # Output: 19\n",
    "\n",
    "# Finding min/max with multiple sequences\n",
    "print(f\"Min of all: {min(min(numbers), min(range(4)), -10)}\")  # Output: -10\n",
    "\n",
    "# Using with tuples\n",
    "points = [(1, 5), (2, 3), (5, 2), (4, 1)]\n",
    "lowest_y = min(points, key=lambda point: point[1])\n",
    "print(f\"Point with lowest y-coordinate: {lowest_y}\")  # Output: (4, 1)"
   ]
  },
  {
   "cell_type": "markdown",
   "id": "18a8747c",
   "metadata": {
    "slideshow": {
     "slide_type": "slide"
    }
   },
   "source": [
    "## Converting between Sequences and Strings\n",
    "\n",
    "Python provides several methods for converting between strings and various sequence types. These conversions are essential for data processing, file I/O, and user interaction.\n",
    "\n",
    "Key conversion methods:\n",
    "- `str.join()`: Combines sequence elements into a string\n",
    "- `str.split()`: Divides a string into a list of substrings\n",
    "- `str.splitlines()`: Splits string at line breaks\n",
    "- String formatting methods for complex conversions\n",
    "- Specialized functions like `csv` module for structured data"
   ]
  },
  {
   "cell_type": "code",
   "execution_count": null,
   "id": "c19f87b1",
   "metadata": {
    "slideshow": {
     "slide_type": "slide"
    }
   },
   "outputs": [],
   "source": [
    "# Converting between sequences and strings\n",
    "\n",
    "# Joining sequences into strings\n",
    "words = [\"Python\", \"is\", \"powerful\"]\n",
    "sentence = \" \".join(words)\n",
    "print(f\"Joined with spaces: {sentence}\")  # Output: Python is powerful\n",
    "\n",
    "fruits = [\"apple\", \"banana\", \"cherry\"]\n",
    "csv_string = \",\".join(fruits)\n",
    "print(f\"CSV format: {csv_string}\")  # Output: apple,banana,cherry\n",
    "\n",
    "# Converting numbers to string before joining\n",
    "numbers = [1, 2, 3, 4, 5]\n",
    "numbers_str = \", \".join(str(num) for num in numbers)\n",
    "print(f\"Numbers joined: {numbers_str}\")  # Output: 1, 2, 3, 4, 5\n",
    "\n",
    "# Splitting strings into lists\n",
    "text = \"Python is a great programming language\"\n",
    "words_list = text.split()  # Default splits on whitespace\n",
    "print(f\"Split into words: {words_list}\")\n",
    "\n",
    "csv_data = \"apple,orange,banana,grape\"\n",
    "fruits_list = csv_data.split(\",\")\n",
    "print(f\"Split CSV: {fruits_list}\")\n",
    "\n",
    "# Splitting with a maximum split count\n",
    "limited_split = text.split(\" \", 2)  # Split at most 2 times\n",
    "print(f\"Limited split: {limited_split}\")  # Output: ['Python', 'is', 'a great programming language']\n",
    "\n",
    "# Splitting multiline text\n",
    "multiline = \"\"\"Line 1\n",
    "Line 2\n",
    "Line 3\"\"\"\n",
    "lines = multiline.splitlines()\n",
    "print(f\"Lines: {lines}\")  # Output: ['Line 1', 'Line 2', 'Line 3']\n",
    "\n",
    "# Converting characters of a string to a list and back\n",
    "word = \"Python\"\n",
    "chars = list(word)\n",
    "print(f\"Characters: {chars}\")  # Output: ['P', 'y', 't', 'h', 'o', 'n']\n",
    "word_again = \"\".join(chars)\n",
    "print(f\"Joined back: {word_again}\")  # Output: Python\n",
    "\n",
    "# Converting between string representation and data structures\n",
    "import json\n",
    "\n",
    "# Dict to string\n",
    "user_dict = {\"name\": \"Alice\", \"age\": 30, \"skills\": [\"Python\", \"SQL\"]}\n",
    "json_str = json.dumps(user_dict)\n",
    "print(f\"JSON string: {json_str}\")\n",
    "\n",
    "# String to dict\n",
    "parsed_dict = json.loads(json_str)\n",
    "print(f\"Parsed back: {parsed_dict}\")\n",
    "print(f\"Name: {parsed_dict['name']}\")"
   ]
  },
  {
   "cell_type": "markdown",
   "id": "352ce791",
   "metadata": {
    "slideshow": {
     "slide_type": "slide"
    }
   },
   "source": [
    "## Unpacking Sequences\n",
    "\n",
    "Sequence unpacking is a powerful Python feature that assigns elements of a sequence to multiple variables in a single operation. This technique enhances code readability and efficiency.\n",
    "\n",
    "Key unpacking features:\n",
    "- Basic unpacking assigns elements to individual variables\n",
    "- Extended unpacking uses `*` to collect multiple elements\n",
    "- Can be used with any iterable (lists, tuples, strings, etc.)\n",
    "- Particularly useful for function returns and loop iterations\n",
    "- Provides a concise way to swap values or extract specific elements"
   ]
  },
  {
   "cell_type": "code",
   "execution_count": null,
   "id": "35fe7221",
   "metadata": {
    "slideshow": {
     "slide_type": "slide"
    }
   },
   "outputs": [],
   "source": [
    "# Unpacking sequences\n",
    "\n",
    "# Basic tuple unpacking\n",
    "coordinates = (10, 20, 30)\n",
    "x, y, z = coordinates  # Unpack tuple into three variables\n",
    "print(f\"x={x}, y={y}, z={z}\")  # Output: x=10, y=20, z=30\n",
    "\n",
    "# Unpacking lists\n",
    "rgb = [255, 128, 64]\n",
    "red, green, blue = rgb\n",
    "print(f\"RGB values: {red}, {green}, {blue}\")  # Output: RGB values: 255, 128, 64\n",
    "\n",
    "# Unpacking strings (characters)\n",
    "char1, char2, char3 = \"XYZ\"\n",
    "print(f\"Characters: {char1}, {char2}, {char3}\")  # Output: Characters: X, Y, Z\n",
    "\n",
    "# Swapping values with unpacking (no temporary variable needed)\n",
    "a, b = 5, 10\n",
    "print(f\"Before swap: a={a}, b={b}\")\n",
    "a, b = b, a  # Swap using tuple unpacking\n",
    "print(f\"After swap: a={a}, b={b}\")  # Output: After swap: a=10, b=5\n",
    "\n",
    "# Extended unpacking with * (star operator)\n",
    "first, *middle, last = [1, 2, 3, 4, 5]\n",
    "print(f\"First: {first}, Middle: {middle}, Last: {last}\")  \n",
    "# Output: First: 1, Middle: [2, 3, 4], Last: 5\n",
    "\n",
    "# Ignoring values with underscore\n",
    "name, _, age = (\"Alice\", \"Smith\", 30)\n",
    "print(f\"Name: {name}, Age: {age}\")  # Output: Name: Alice, Age: 30\n",
    "\n",
    "# Multiple underscores for multiple ignored values\n",
    "first, *_, last = range(10)\n",
    "print(f\"First: {first}, Last: {last}\")  # Output: First: 0, Last: 9\n",
    "\n",
    "# Unpacking in for loops\n",
    "points = [(1, 2), (3, 4), (5, 6)]\n",
    "for x, y in points:\n",
    "    print(f\"Point: ({x}, {y})\")\n",
    "\n",
    "# Unpacking function returns\n",
    "def get_user_info():\n",
    "    return \"Alice\", 30, \"Developer\"\n",
    "\n",
    "name, age, profession = get_user_info()\n",
    "print(f\"User: {name}, {age}, {profession}\")  # Output: User: Alice, 30, Developer\n",
    "\n",
    "# Unpacking nested structures\n",
    "person = (\"John\", (\"New York\", \"USA\"), [25, 175, 70])\n",
    "name, (city, country), (age, height, weight) = person\n",
    "print(f\"{name} is from {city}, {country}\")  # Output: John is from New York, USA\n",
    "print(f\"Age: {age}, Height: {height}cm, Weight: {weight}kg\")"
   ]
  },
  {
   "cell_type": "markdown",
   "id": "1e8cad82",
   "metadata": {
    "slideshow": {
     "slide_type": "slide"
    }
   },
   "source": [
    "## Dictionaries\n",
    "\n",
    "Dictionaries are mutable, unordered collections of key-value pairs. They provide fast lookups by key and are one of Python's most versatile data structures.\n",
    "\n",
    "Key features:\n",
    "- Created with curly braces `{}` or the `dict()` constructor\n",
    "- Each key must be unique and immutable (strings, numbers, tuples)\n",
    "- Keys are hashed for efficient lookup (constant-time complexity)\n",
    "- Values can be of any type and do not need to be unique\n",
    "- Common operations: adding/removing items, accessing values, iterating"
   ]
  },
  {
   "cell_type": "code",
   "execution_count": null,
   "id": "0a83b6cb",
   "metadata": {
    "slideshow": {
     "slide_type": "slide"
    }
   },
   "outputs": [],
   "source": [
    "# Working with dictionaries\n",
    "\n",
    "# Creating dictionaries\n",
    "empty_dict = {}\n",
    "user = {\"name\": \"Alice\", \"age\": 30, \"is_admin\": False}\n",
    "grades = dict(math=90, science=85, history=78)\n",
    "\n",
    "# Accessing values\n",
    "print(f\"User name: {user['name']}\")  # Output: User name: Alice\n",
    "\n",
    "# Using get() method (safer, provides default for missing keys)\n",
    "email = user.get(\"email\", \"No email provided\")\n",
    "print(f\"Email: {email}\")  # Output: Email: No email provided\n",
    "\n",
    "# Adding and modifying values\n",
    "user[\"email\"] = \"alice@example.com\"\n",
    "user[\"age\"] = 31  # Modifying existing value\n",
    "print(f\"Updated user: {user}\")\n",
    "\n",
    "# Removing items\n",
    "removed_age = user.pop(\"age\")  # Remove and return the value\n",
    "print(f\"Removed age: {removed_age}\")\n",
    "print(f\"After removal: {user}\")\n",
    "\n",
    "# Checking if key exists\n",
    "if \"name\" in user:\n",
    "    print(f\"Name exists: {user['name']}\")\n",
    "\n",
    "# Dictionary methods\n",
    "print(f\"Keys: {list(user.keys())}\")\n",
    "print(f\"Values: {list(user.values())}\")\n",
    "print(f\"Items: {list(user.items())}\")\n",
    "\n",
    "# Iterating through dictionaries\n",
    "print(\"\\nUser details:\")\n",
    "for key, value in user.items():\n",
    "    print(f\"  {key}: {value}\")\n",
    "\n",
    "# Dictionary comprehensions\n",
    "squares = {x: x**2 for x in range(1, 6)}\n",
    "print(f\"Squares dictionary: {squares}\")  # Output: {1: 1, 2: 4, 3: 9, 4: 16, 5: 25}\n",
    "\n",
    "# Merging dictionaries\n",
    "# Python 3.9+ method\n",
    "user_info = {\"name\": \"Bob\", \"age\": 25}\n",
    "job_info = {\"company\": \"ABC Corp\", \"position\": \"Developer\"}\n",
    "full_profile = user_info | job_info  # Merge with pipe operator\n",
    "print(f\"Merged profile: {full_profile}\")\n",
    "\n",
    "# For Python 3.5+\n",
    "user_info = {\"name\": \"Charlie\", \"age\": 40}\n",
    "job_info = {\"company\": \"XYZ Inc\", \"position\": \"Manager\"}\n",
    "full_profile = {**user_info, **job_info}  # Merge with dictionary unpacking\n",
    "print(f\"Merged profile: {full_profile}\")\n",
    "\n",
    "# Nested dictionaries\n",
    "organization = {\n",
    "    \"engineering\": {\n",
    "        \"manager\": \"Alice\",\n",
    "        \"headcount\": 15,\n",
    "        \"teams\": [\"frontend\", \"backend\"]\n",
    "    },\n",
    "    \"marketing\": {\n",
    "        \"manager\": \"Bob\",\n",
    "        \"headcount\": 8,\n",
    "        \"teams\": [\"digital\", \"events\"]\n",
    "    }\n",
    "}\n",
    "\n",
    "print(f\"Engineering manager: {organization['engineering']['manager']}\")\n",
    "print(f\"Marketing teams: {organization['marketing']['teams']}\")"
   ]
  },
  {
   "cell_type": "markdown",
   "id": "6a1158b8",
   "metadata": {},
   "source": [
    "## Sets\n",
    "\n",
    "Sets are unordered collections of unique elements. They are useful for membership testing, removing duplicates, and performing mathematical set operations such as union, intersection, and difference.\n",
    "\n",
    "Key features:\n",
    "- Created with curly braces `{}` or the `set()` constructor\n",
    "- Elements must be immutable (strings, numbers, tuples)\n",
    "- No duplicate elements allowed (duplicates are automatically removed)\n",
    "- No indexing or slicing (as sets are unordered)\n",
    "- Fast membership testing using hash tables"
   ]
  },
  {
   "cell_type": "code",
   "execution_count": null,
   "id": "bbf2e1b9",
   "metadata": {
    "slideshow": {
     "slide_type": "slide"
    }
   },
   "outputs": [],
   "source": [
    "# Working with sets\n",
    "\n",
    "# Creating sets\n",
    "empty_set = set()  # Note: {} creates an empty dictionary, not a set\n",
    "fruits = {\"apple\", \"banana\", \"cherry\"}\n",
    "numbers = set([1, 2, 3, 2, 1])  # Duplicates are removed\n",
    "print(f\"Fruits set: {fruits}\")\n",
    "print(f\"Numbers set: {numbers}\")  # Output: {1, 2, 3}\n",
    "\n",
    "# Adding and removing elements\n",
    "fruits.add(\"orange\")\n",
    "fruits.add(\"apple\")  # Duplicate not added\n",
    "print(f\"After adding: {fruits}\")\n",
    "\n",
    "fruits.remove(\"banana\")  # Raises KeyError if not found\n",
    "print(f\"After removal: {fruits}\")\n",
    "\n",
    "fruits.discard(\"mango\")  # No error if element not found\n",
    "print(f\"After discard: {fruits}\")\n",
    "\n",
    "popped = fruits.pop()  # Removes and returns an arbitrary element\n",
    "print(f\"Popped: {popped}, Remaining: {fruits}\")\n",
    "\n",
    "# Set operations\n",
    "set1 = {1, 2, 3, 4, 5}\n",
    "set2 = {4, 5, 6, 7, 8}\n",
    "\n",
    "# Union: elements in either set\n",
    "union_set = set1 | set2  # or set1.union(set2)\n",
    "print(f\"Union: {union_set}\")  # Output: {1, 2, 3, 4, 5, 6, 7, 8}\n",
    "\n",
    "# Intersection: elements in both sets\n",
    "intersection_set = set1 & set2  # or set1.intersection(set2)\n",
    "print(f\"Intersection: {intersection_set}\")  # Output: {4, 5}\n",
    "\n",
    "# Difference: elements in first set but not in second\n",
    "difference_set = set1 - set2  # or set1.difference(set2)\n",
    "print(f\"Difference (set1 - set2): {difference_set}\")  # Output: {1, 2, 3}\n",
    "\n",
    "# Symmetric difference: elements in either set but not in both\n",
    "symmetric_diff = set1 ^ set2  # or set1.symmetric_difference(set2)\n",
    "print(f\"Symmetric difference: {symmetric_diff}\")  # Output: {1, 2, 3, 6, 7, 8}\n",
    "\n",
    "# Subset and superset testing\n",
    "a = {1, 2, 3}\n",
    "b = {1, 2, 3, 4, 5}\n",
    "print(f\"Is a subset of b? {a.issubset(b)}\")  # Output: True\n",
    "print(f\"Is b superset of a? {b.issuperset(a)}\")  # Output: True\n",
    "\n",
    "# Set comprehensions\n",
    "even_squares = {x**2 for x in range(10) if x % 2 == 0}\n",
    "print(f\"Even squares: {even_squares}\")  # Output: {0, 4, 16, 36, 64}\n",
    "\n",
    "# Common use case: removing duplicates from a list\n",
    "duplicated_list = [1, 2, 3, 1, 2, 4, 5, 4]\n",
    "unique_list = list(set(duplicated_list))\n",
    "print(f\"Unique values: {unique_list}\")  # Output may vary in order\n",
    "\n",
    "# Testing for disjoint sets (no common elements)\n",
    "set_a = {1, 2, 3}\n",
    "set_b = {4, 5, 6}\n",
    "set_c = {3, 4, 5}\n",
    "print(f\"Are set_a and set_b disjoint? {set_a.isdisjoint(set_b)}\")  # Output: True\n",
    "print(f\"Are set_a and set_c disjoint? {set_a.isdisjoint(set_c)}\")  # Output: False"
   ]
  },
  {
   "cell_type": "markdown",
   "id": "7c6b7aef",
   "metadata": {
    "slideshow": {
     "slide_type": "slide"
    }
   },
   "source": [
    "## *args and **kwargs\n",
    "\n",
    "Python functions can accept variable numbers of arguments using special parameter syntax:\n",
    "- `*args`: Collects variable positional arguments into a tuple\n",
    "- `**kwargs`: Collects variable keyword arguments into a dictionary\n",
    "\n",
    "These constructs provide flexibility in function design, allowing functions to handle different numbers and types of inputs."
   ]
  },
  {
   "cell_type": "code",
   "execution_count": null,
   "id": "bc481608",
   "metadata": {
    "slideshow": {
     "slide_type": "slide"
    }
   },
   "outputs": [],
   "source": [
    "# Using *args and **kwargs in functions\n",
    "\n",
    "# Function with *args (variable positional arguments)\n",
    "def sum_all(*args):\n",
    "    \"\"\"Calculate the sum of all provided numbers.\"\"\"\n",
    "    result = 0\n",
    "    for num in args:\n",
    "        result += num\n",
    "    return result\n",
    "\n",
    "# Calling with different numbers of arguments\n",
    "print(f\"Sum of 1, 2, 3: {sum_all(1, 2, 3)}\")          # Output: 6\n",
    "print(f\"Sum of 10, 20: {sum_all(10, 20)}\")            # Output: 30\n",
    "print(f\"Sum of multiple values: {sum_all(1, 2, 3, 4, 5, 6)}\")  # Output: 21\n",
    "\n",
    "# Function with **kwargs (variable keyword arguments)\n",
    "def create_profile(**kwargs):\n",
    "    \"\"\"Create a user profile from provided attributes.\"\"\"\n",
    "    profile = {\"registered\": True}  # Default values\n",
    "    for key, value in kwargs.items():\n",
    "        profile[key] = value\n",
    "    return profile\n",
    "\n",
    "# Calling with different keyword arguments\n",
    "profile1 = create_profile(name=\"Alice\", age=30, location=\"New York\")\n",
    "profile2 = create_profile(name=\"Bob\", occupation=\"Developer\", skills=[\"Python\", \"SQL\"])\n",
    "\n",
    "print(f\"Profile 1: {profile1}\")\n",
    "print(f\"Profile 2: {profile2}\")\n",
    "\n",
    "# Function with both *args and **kwargs\n",
    "def display_info(*args, **kwargs):\n",
    "    \"\"\"Display positional arguments and then keyword arguments.\"\"\"\n",
    "    print(\"Positional arguments:\")\n",
    "    for i, arg in enumerate(args, 1):\n",
    "        print(f\"  {i}. {arg}\")\n",
    "    \n",
    "    print(\"Keyword arguments:\")\n",
    "    for key, value in kwargs.items():\n",
    "        print(f\"  {key}: {value}\")\n",
    "\n",
    "display_info(\"Python\", \"Programming\", \"Course\", \n",
    "             instructor=\"John Doe\", duration=8, level=\"Intermediate\")\n",
    "\n",
    "# Unpacking sequences into function arguments with *\n",
    "numbers = [1, 2, 3, 4, 5]\n",
    "print(f\"Sum unpacked from list: {sum_all(*numbers)}\")  # Output: 15\n",
    "\n",
    "# Unpacking dictionaries into function arguments with **\n",
    "user_data = {\"name\": \"Charlie\", \"age\": 35, \"email\": \"charlie@example.com\"}\n",
    "profile3 = create_profile(**user_data)\n",
    "print(f\"Profile 3: {profile3}\")\n",
    "\n",
    "# Practical example: Function that can handle both individual coordinates and point objects\n",
    "def calculate_distance(*args, **kwargs):\n",
    "    \"\"\"Calculate distance from origin (0, 0) to a point.\"\"\"\n",
    "    # Handle different input formats\n",
    "    if len(args) == 2:  # Two positional args (x, y)\n",
    "        x, y = args\n",
    "    elif \"point\" in kwargs:  # Point as a tuple in kwargs\n",
    "        x, y = kwargs[\"point\"]\n",
    "    elif \"x\" in kwargs and \"y\" in kwargs:  # x and y as separate kwargs\n",
    "        x, y = kwargs[\"x\"], kwargs[\"y\"]\n",
    "    else:\n",
    "        raise ValueError(\"Provide either (x, y) coordinates or named point arguments\")\n",
    "    \n",
    "    # Calculate Euclidean distance\n",
    "    return (x**2 + y**2) ** 0.5\n",
    "\n",
    "print(f\"Distance with args: {calculate_distance(3, 4)}\")  # Output: 5.0\n",
    "print(f\"Distance with point: {calculate_distance(point=(3, 4))}\")  # Output: 5.0\n",
    "print(f\"Distance with x,y: {calculate_distance(x=3, y=4)}\")  # Output: 5.0"
   ]
  },
  {
   "cell_type": "markdown",
   "id": "9f92429b",
   "metadata": {
    "slideshow": {
     "slide_type": "slide"
    }
   },
   "source": [
    "## Other data structures in collections module\n",
    "\n",
    "- The `collections` module in Python's standard library provides specialized container datatypes for specific use cases\n",
    "- Common types include:\n",
    "    - `deque` for fast appends and pops from both ends\n",
    "    - `defaultdict` for dictionaries with default values\n",
    "    - `Counter` for counting hashable objects\n",
    "    - `namedtuple` for lightweight object-like tuples\n",
    "    - `ChainMap` for combining multiple dictionaries\n",
    "\n",
    "[See: `collections module`](https://docs.python.org/3/library/collections.html)"
   ]
  }
 ],
 "metadata": {
  "kernelspec": {
   "display_name": "Python 3 (ipykernel)",
   "language": "python",
   "name": "python3"
  },
  "language_info": {
   "codemirror_mode": {
    "name": "ipython",
    "version": 3
   },
   "file_extension": ".py",
   "mimetype": "text/x-python",
   "name": "python",
   "nbconvert_exporter": "python",
   "pygments_lexer": "ipython3",
   "version": "3.13.2"
  }
 },
 "nbformat": 4,
 "nbformat_minor": 5
}
