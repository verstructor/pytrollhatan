{
 "cells": [
  {
   "cell_type": "markdown",
   "id": "b9374bf1",
   "metadata": {
    "slideshow": {
     "slide_type": "slide"
    }
   },
   "source": [
    "# Section 9: Modules and Packages\n",
    "This section introduces how to organize, import, and manage Python code using modules and packages. It also covers best practices for project structure and dependency management."
   ]
  },
  {
   "cell_type": "markdown",
   "id": "864c87fe",
   "metadata": {
    "slideshow": {
     "slide_type": "slide"
    }
   },
   "source": [
    "## Creating and Importing Modules\n",
    "A module is a file containing Python definitions and statements. Modules help organize code into reusable components."
   ]
  },
  {
   "cell_type": "code",
   "execution_count": null,
   "id": "734b2065",
   "metadata": {
    "slideshow": {
     "slide_type": "slide"
    }
   },
   "outputs": [],
   "source": [
    "# mymodule.py\n",
    "\n",
    "def greet(name):\n",
    "    \"\"\"Return a greeting for the given name.\"\"\"\n",
    "    return f\"Hello, {name}!\""
   ]
  },
  {
   "cell_type": "code",
   "execution_count": null,
   "id": "9fa9d0c1",
   "metadata": {
    "slideshow": {
     "slide_type": "slide"
    }
   },
   "outputs": [],
   "source": [
    "# Importing and using a custom module\n",
    "import mymodule\n",
    "print(mymodule.greet(\"Alice\"))"
   ]
  },
  {
   "cell_type": "markdown",
   "id": "e63ae78d",
   "metadata": {},
   "source": [
    "## `__name__ == \"__main__\"`\n",
    "This construct allows code to be run when the file is executed directly, but not when imported as a module."
   ]
  },
  {
   "cell_type": "code",
   "execution_count": null,
   "id": "df7ba055",
   "metadata": {
    "slideshow": {
     "slide_type": "slide"
    }
   },
   "outputs": [],
   "source": [
    "# In mymodule.py\n",
    "if __name__ == \"__main__\":\n",
    "    print(greet(\"World\"))"
   ]
  },
  {
   "cell_type": "markdown",
   "id": "9ac296e6",
   "metadata": {
    "slideshow": {
     "slide_type": "slide"
    }
   },
   "source": [
    "## Python Package Structure\n",
    "A package is a directory containing an `__init__.py` file and one or more module files. Packages allow for hierarchical structuring of modules."
   ]
  },
  {
   "cell_type": "code",
   "execution_count": null,
   "id": "3829a39e",
   "metadata": {
    "slideshow": {
     "slide_type": "slide"
    }
   },
   "outputs": [],
   "source": [
    "# Directory structure example:\n",
    "# mypackage/\n",
    "#   __init__.py\n",
    "#   module1.py\n",
    "#   module2.py\n",
    "\n",
    "# Importing from a package\n",
    "from mypackage import module1"
   ]
  },
  {
   "cell_type": "markdown",
   "id": "8c77ead7",
   "metadata": {
    "slideshow": {
     "slide_type": "slide"
    }
   },
   "source": [
    "## Python Project Directory Structure and Best Practices\n",
    "Organize projects with clear separation of source code, tests, and configuration files. Example structure:\n",
    "\n",
    "```\n",
    "project_name/\n",
    "    src/\n",
    "        project_name/\n",
    "            __init__.py\n",
    "            ...\n",
    "    tests/\n",
    "        ...\n",
    "    requirements.txt\n",
    "    setup.py\n",
    "    README.md\n",
    "```"
   ]
  },
  {
   "cell_type": "markdown",
   "id": "8afad7f0",
   "metadata": {
    "slideshow": {
     "slide_type": "slide"
    }
   },
   "source": [
    "## Virtual Environments and Dependency Management\n",
    "Use `venv` or `pip` to manage project dependencies in isolated environments. This prevents conflicts between packages required by different projects."
   ]
  },
  {
   "cell_type": "code",
   "execution_count": null,
   "id": "910b66ce",
   "metadata": {
    "slideshow": {
     "slide_type": "slide"
    }
   },
   "outputs": [],
   "source": [
    "# Create a virtual environment\n",
    "python -m venv venv\n",
    "\n",
    "# Activate the environment (Windows)\n",
    "# .\\venv\\Scripts\\activate\n",
    "\n",
    "# Install dependencies\n",
    "pip install requests"
   ]
  },
  {
   "cell_type": "markdown",
   "id": "d3732072",
   "metadata": {
    "slideshow": {
     "slide_type": "slide"
    }
   },
   "source": [
    "## Using and Creating Setup Scripts (setuptools basics)\n",
    "A `setup.py` file defines how a project is packaged and distributed. Use setuptools for packaging Python projects."
   ]
  },
  {
   "cell_type": "code",
   "execution_count": null,
   "id": "20fc430e",
   "metadata": {
    "slideshow": {
     "slide_type": "slide"
    }
   },
   "outputs": [],
   "source": [
    "# setup.py example\n",
    "from setuptools import setup, find_packages\n",
    "\n",
    "setup(\n",
    "    name=\"project_name\",\n",
    "    version=\"0.1\",\n",
    "    packages=find_packages(where=\"src\"),\n",
    "    package_dir={\"\": \"src\"},\n",
    ")"
   ]
  },
  {
   "cell_type": "markdown",
   "id": "3de51f5f",
   "metadata": {
    "slideshow": {
     "slide_type": "slide"
    }
   },
   "source": [
    "## Using poetry and pipx\n",
    "`poetry` is a modern tool for dependency management and packaging. `pipx` allows running Python applications in isolated environments."
   ]
  },
  {
   "cell_type": "code",
   "execution_count": null,
   "id": "7f7c266f",
   "metadata": {
    "slideshow": {
     "slide_type": "slide"
    }
   },
   "outputs": [],
   "source": [
    "# Install poetry\n",
    "# pip install poetry\n",
    "\n",
    "# Initialize a new project\n",
    "# poetry init\n",
    "\n",
    "# Add a dependency\n",
    "# poetry add requests\n",
    "\n",
    "# Install pipx\n",
    "# pip install pipx\n",
    "\n",
    "# Run a package in isolation\n",
    "# pipx run black"
   ]
  },
  {
   "cell_type": "markdown",
   "id": "b9446cf8",
   "metadata": {
    "slideshow": {
     "slide_type": "slide"
    }
   },
   "source": [
    "## Summary\n",
    "- Modules and packages organize code for reuse and clarity.\n",
    "- Use virtual environments for dependency management.\n",
    "- Follow best practices for project structure and packaging."
   ]
  }
 ],
 "metadata": {
  "language_info": {
   "name": "python"
  }
 },
 "nbformat": 4,
 "nbformat_minor": 5
}
